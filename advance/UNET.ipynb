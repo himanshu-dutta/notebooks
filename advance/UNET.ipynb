{
 "metadata": {
  "language_info": {
   "codemirror_mode": {
    "name": "ipython",
    "version": 3
   },
   "file_extension": ".py",
   "mimetype": "text/x-python",
   "name": "python",
   "nbconvert_exporter": "python",
   "pygments_lexer": "ipython3",
   "version": "3.8.5"
  },
  "orig_nbformat": 2,
  "kernelspec": {
   "name": "python385jvsc74a57bd031f2aee4e71d21fbe5cf8b01ff0e069b9275f58929596ceb00d14d90e3e16cd6",
   "display_name": "Python 3.8.5 64-bit"
  },
  "metadata": {
   "interpreter": {
    "hash": "31f2aee4e71d21fbe5cf8b01ff0e069b9275f58929596ceb00d14d90e3e16cd6"
   }
  }
 },
 "nbformat": 4,
 "nbformat_minor": 2,
 "cells": [
  {
   "cell_type": "code",
   "execution_count": 1,
   "metadata": {},
   "outputs": [],
   "source": [
    "import torch\n",
    "import torch.nn as nn\n",
    "import pytorch_lightning as pl\n",
    "import torch.nn.functional as F"
   ]
  },
  {
   "source": [
    "# UNET"
   ],
   "cell_type": "markdown",
   "metadata": {}
  },
  {
   "cell_type": "code",
   "execution_count": 2,
   "metadata": {},
   "outputs": [],
   "source": [
    "def conv_block(in_channels, out_channels):\n",
    "    layers = [\n",
    "        nn.Conv2d(in_channels, out_channels, 3),\n",
    "        nn.ReLU(inplace=True),\n",
    "        nn.Conv2d(out_channels, out_channels, 3),\n",
    "        nn.ReLU(inplace=True),\n",
    "    ]\n",
    "\n",
    "    return nn.Sequential(*layers)"
   ]
  },
  {
   "cell_type": "code",
   "execution_count": 3,
   "metadata": {},
   "outputs": [],
   "source": [
    "class upconv_block(nn.Module):\n",
    "    def __init__(self, in_channels, out_channels):\n",
    "        super().__init__()\n",
    "        self.ct = nn.ConvTranspose2d(in_channels, out_channels, 2, 2)\n",
    "        self.enc = conv_block(in_channels, out_channels)\n",
    "\n",
    "    def forward(self, x, y):\n",
    "        x = self.ct(x)\n",
    "\n",
    "        # cropping y to match size of x\n",
    "        xs = x.shape[2]\n",
    "        ys = y.shape[2]\n",
    "        ds = (ys - xs) // 2\n",
    "        y = y[:, :, ds : ys - ds, ds : ys - ds]\n",
    "\n",
    "        z = torch.cat([y, x], dim=1)\n",
    "\n",
    "        return self.enc(z)"
   ]
  },
  {
   "cell_type": "code",
   "execution_count": 4,
   "metadata": {},
   "outputs": [],
   "source": [
    "class Unet(pl.LightningModule):\n",
    "    def __init__(self, num_classes):\n",
    "        super().__init__()\n",
    "\n",
    "        self.pool = nn.MaxPool2d(2)\n",
    "\n",
    "        self.enc1 = conv_block(1, 64)\n",
    "        self.enc2 = conv_block(64, 128)\n",
    "        self.enc3 = conv_block(128, 256)\n",
    "        self.enc4 = conv_block(256, 512)\n",
    "        self.enc5 = conv_block(512, 1024)\n",
    "\n",
    "        self.dec1 = upconv_block(1024, 512)\n",
    "        self.dec2 = upconv_block(512, 256)\n",
    "        self.dec3 = upconv_block(256, 128)\n",
    "        self.dec4 = upconv_block(128, 64)\n",
    "\n",
    "        self.out = nn.Conv2d(64, num_classes, 1)\n",
    "\n",
    "    def forward(self, x):\n",
    "        # encoding\n",
    "        dc1 = self.enc1(x)\n",
    "        pooled_dc1 = self.pool(dc1)\n",
    "\n",
    "        dc2 = self.enc2(pooled_dc1)\n",
    "        pooled_dc2 = self.pool(dc2)\n",
    "\n",
    "        dc3 = self.enc3(pooled_dc2)\n",
    "        pooled_dc3 = self.pool(dc3)\n",
    "\n",
    "        dc4 = self.enc4(pooled_dc3)\n",
    "        pooled_dc4 = self.pool(dc4)\n",
    "\n",
    "        dc5 = self.enc5(pooled_dc4)\n",
    "\n",
    "        # decoding\n",
    "        uc1 = self.dec1(dc5, dc4)\n",
    "        uc2 = self.dec2(uc1, dc3)\n",
    "        uc3 = self.dec3(uc2, dc2)\n",
    "        uc4 = self.dec4(uc3, dc1)\n",
    "\n",
    "        # output\n",
    "        out = self.out(uc4)\n",
    "\n",
    "        return out"
   ]
  },
  {
   "source": [
    "# Execution"
   ],
   "cell_type": "markdown",
   "metadata": {}
  },
  {
   "cell_type": "code",
   "execution_count": 5,
   "metadata": {},
   "outputs": [
    {
     "output_type": "stream",
     "name": "stdout",
     "text": [
      "sample.shape:  torch.Size([1, 1, 572, 572])\n",
      "model(sample).shape:  torch.Size([1, 2, 388, 388])\n"
     ]
    }
   ],
   "source": [
    "model = Unet(2)\n",
    "\n",
    "sample = torch.randn((1, 1, 572, 572))\n",
    "\n",
    "print(\"sample.shape: \", sample.shape)\n",
    "print(\"model(sample).shape: \", model(sample).shape)"
   ]
  },
  {
   "cell_type": "code",
   "execution_count": null,
   "metadata": {},
   "outputs": [],
   "source": []
  }
 ]
}