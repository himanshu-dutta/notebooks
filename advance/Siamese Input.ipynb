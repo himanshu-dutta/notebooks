{
  "nbformat": 4,
  "nbformat_minor": 0,
  "metadata": {
    "colab": {
      "name": "siamese_experiment.ipynb",
      "provenance": [],
      "collapsed_sections": [
        "7IQDjs4uVYaL"
      ]
    },
    "kernelspec": {
      "name": "python3",
      "display_name": "Python 3"
    },
    "accelerator": "GPU",
    "widgets": {
      "application/vnd.jupyter.widget-state+json": {
        "4f5fb088cc484d318a45a0542eea4692": {
          "model_module": "@jupyter-widgets/controls",
          "model_name": "HBoxModel",
          "state": {
            "_view_name": "HBoxView",
            "_dom_classes": [],
            "_model_name": "HBoxModel",
            "_view_module": "@jupyter-widgets/controls",
            "_model_module_version": "1.5.0",
            "_view_count": null,
            "_view_module_version": "1.5.0",
            "box_style": "",
            "layout": "IPY_MODEL_cf9c89c2dcae422a8d9f506478ecc9f4",
            "_model_module": "@jupyter-widgets/controls",
            "children": [
              "IPY_MODEL_c06bab6f990b4ff189da56206e680ae5",
              "IPY_MODEL_0afb7cc10fd0447b96defe70524f0334"
            ]
          }
        },
        "cf9c89c2dcae422a8d9f506478ecc9f4": {
          "model_module": "@jupyter-widgets/base",
          "model_name": "LayoutModel",
          "state": {
            "_view_name": "LayoutView",
            "grid_template_rows": null,
            "right": null,
            "justify_content": null,
            "_view_module": "@jupyter-widgets/base",
            "overflow": null,
            "_model_module_version": "1.2.0",
            "_view_count": null,
            "flex_flow": null,
            "width": null,
            "min_width": null,
            "border": null,
            "align_items": null,
            "bottom": null,
            "_model_module": "@jupyter-widgets/base",
            "top": null,
            "grid_column": null,
            "overflow_y": null,
            "overflow_x": null,
            "grid_auto_flow": null,
            "grid_area": null,
            "grid_template_columns": null,
            "flex": null,
            "_model_name": "LayoutModel",
            "justify_items": null,
            "grid_row": null,
            "max_height": null,
            "align_content": null,
            "visibility": null,
            "align_self": null,
            "height": null,
            "min_height": null,
            "padding": null,
            "grid_auto_rows": null,
            "grid_gap": null,
            "max_width": null,
            "order": null,
            "_view_module_version": "1.2.0",
            "grid_template_areas": null,
            "object_position": null,
            "object_fit": null,
            "grid_auto_columns": null,
            "margin": null,
            "display": null,
            "left": null
          }
        },
        "c06bab6f990b4ff189da56206e680ae5": {
          "model_module": "@jupyter-widgets/controls",
          "model_name": "FloatProgressModel",
          "state": {
            "_view_name": "ProgressView",
            "style": "IPY_MODEL_ab199120ebb94773ac1f758cd3eed713",
            "_dom_classes": [],
            "description": "100%",
            "_model_name": "FloatProgressModel",
            "bar_style": "success",
            "max": 57,
            "_view_module": "@jupyter-widgets/controls",
            "_model_module_version": "1.5.0",
            "value": 57,
            "_view_count": null,
            "_view_module_version": "1.5.0",
            "orientation": "horizontal",
            "min": 0,
            "description_tooltip": null,
            "_model_module": "@jupyter-widgets/controls",
            "layout": "IPY_MODEL_a61c636107a746d78147c81d7598a545"
          }
        },
        "0afb7cc10fd0447b96defe70524f0334": {
          "model_module": "@jupyter-widgets/controls",
          "model_name": "HTMLModel",
          "state": {
            "_view_name": "HTMLView",
            "style": "IPY_MODEL_fa43df39d70d4365b2302431ef9d6b77",
            "_dom_classes": [],
            "description": "",
            "_model_name": "HTMLModel",
            "placeholder": "​",
            "_view_module": "@jupyter-widgets/controls",
            "_model_module_version": "1.5.0",
            "value": " 57/57 [11:34&lt;00:00, 12.18s/it]",
            "_view_count": null,
            "_view_module_version": "1.5.0",
            "description_tooltip": null,
            "_model_module": "@jupyter-widgets/controls",
            "layout": "IPY_MODEL_7069fbdc99b841b2ac76d9d116de56cf"
          }
        },
        "ab199120ebb94773ac1f758cd3eed713": {
          "model_module": "@jupyter-widgets/controls",
          "model_name": "ProgressStyleModel",
          "state": {
            "_view_name": "StyleView",
            "_model_name": "ProgressStyleModel",
            "description_width": "initial",
            "_view_module": "@jupyter-widgets/base",
            "_model_module_version": "1.5.0",
            "_view_count": null,
            "_view_module_version": "1.2.0",
            "bar_color": null,
            "_model_module": "@jupyter-widgets/controls"
          }
        },
        "a61c636107a746d78147c81d7598a545": {
          "model_module": "@jupyter-widgets/base",
          "model_name": "LayoutModel",
          "state": {
            "_view_name": "LayoutView",
            "grid_template_rows": null,
            "right": null,
            "justify_content": null,
            "_view_module": "@jupyter-widgets/base",
            "overflow": null,
            "_model_module_version": "1.2.0",
            "_view_count": null,
            "flex_flow": null,
            "width": null,
            "min_width": null,
            "border": null,
            "align_items": null,
            "bottom": null,
            "_model_module": "@jupyter-widgets/base",
            "top": null,
            "grid_column": null,
            "overflow_y": null,
            "overflow_x": null,
            "grid_auto_flow": null,
            "grid_area": null,
            "grid_template_columns": null,
            "flex": null,
            "_model_name": "LayoutModel",
            "justify_items": null,
            "grid_row": null,
            "max_height": null,
            "align_content": null,
            "visibility": null,
            "align_self": null,
            "height": null,
            "min_height": null,
            "padding": null,
            "grid_auto_rows": null,
            "grid_gap": null,
            "max_width": null,
            "order": null,
            "_view_module_version": "1.2.0",
            "grid_template_areas": null,
            "object_position": null,
            "object_fit": null,
            "grid_auto_columns": null,
            "margin": null,
            "display": null,
            "left": null
          }
        },
        "fa43df39d70d4365b2302431ef9d6b77": {
          "model_module": "@jupyter-widgets/controls",
          "model_name": "DescriptionStyleModel",
          "state": {
            "_view_name": "StyleView",
            "_model_name": "DescriptionStyleModel",
            "description_width": "",
            "_view_module": "@jupyter-widgets/base",
            "_model_module_version": "1.5.0",
            "_view_count": null,
            "_view_module_version": "1.2.0",
            "_model_module": "@jupyter-widgets/controls"
          }
        },
        "7069fbdc99b841b2ac76d9d116de56cf": {
          "model_module": "@jupyter-widgets/base",
          "model_name": "LayoutModel",
          "state": {
            "_view_name": "LayoutView",
            "grid_template_rows": null,
            "right": null,
            "justify_content": null,
            "_view_module": "@jupyter-widgets/base",
            "overflow": null,
            "_model_module_version": "1.2.0",
            "_view_count": null,
            "flex_flow": null,
            "width": null,
            "min_width": null,
            "border": null,
            "align_items": null,
            "bottom": null,
            "_model_module": "@jupyter-widgets/base",
            "top": null,
            "grid_column": null,
            "overflow_y": null,
            "overflow_x": null,
            "grid_auto_flow": null,
            "grid_area": null,
            "grid_template_columns": null,
            "flex": null,
            "_model_name": "LayoutModel",
            "justify_items": null,
            "grid_row": null,
            "max_height": null,
            "align_content": null,
            "visibility": null,
            "align_self": null,
            "height": null,
            "min_height": null,
            "padding": null,
            "grid_auto_rows": null,
            "grid_gap": null,
            "max_width": null,
            "order": null,
            "_view_module_version": "1.2.0",
            "grid_template_areas": null,
            "object_position": null,
            "object_fit": null,
            "grid_auto_columns": null,
            "margin": null,
            "display": null,
            "left": null
          }
        },
        "60ec0745e3eb4ff38141f4aeddf22d6f": {
          "model_module": "@jupyter-widgets/controls",
          "model_name": "HBoxModel",
          "state": {
            "_view_name": "HBoxView",
            "_dom_classes": [],
            "_model_name": "HBoxModel",
            "_view_module": "@jupyter-widgets/controls",
            "_model_module_version": "1.5.0",
            "_view_count": null,
            "_view_module_version": "1.5.0",
            "box_style": "",
            "layout": "IPY_MODEL_f7acfbb1c34244f2b05a59a042346500",
            "_model_module": "@jupyter-widgets/controls",
            "children": [
              "IPY_MODEL_f5cebb3b09b54aa2987048d331b2eb20",
              "IPY_MODEL_3f4226af834b4d5c8623c0382683b3e3"
            ]
          }
        },
        "f7acfbb1c34244f2b05a59a042346500": {
          "model_module": "@jupyter-widgets/base",
          "model_name": "LayoutModel",
          "state": {
            "_view_name": "LayoutView",
            "grid_template_rows": null,
            "right": null,
            "justify_content": null,
            "_view_module": "@jupyter-widgets/base",
            "overflow": null,
            "_model_module_version": "1.2.0",
            "_view_count": null,
            "flex_flow": null,
            "width": null,
            "min_width": null,
            "border": null,
            "align_items": null,
            "bottom": null,
            "_model_module": "@jupyter-widgets/base",
            "top": null,
            "grid_column": null,
            "overflow_y": null,
            "overflow_x": null,
            "grid_auto_flow": null,
            "grid_area": null,
            "grid_template_columns": null,
            "flex": null,
            "_model_name": "LayoutModel",
            "justify_items": null,
            "grid_row": null,
            "max_height": null,
            "align_content": null,
            "visibility": null,
            "align_self": null,
            "height": null,
            "min_height": null,
            "padding": null,
            "grid_auto_rows": null,
            "grid_gap": null,
            "max_width": null,
            "order": null,
            "_view_module_version": "1.2.0",
            "grid_template_areas": null,
            "object_position": null,
            "object_fit": null,
            "grid_auto_columns": null,
            "margin": null,
            "display": null,
            "left": null
          }
        },
        "f5cebb3b09b54aa2987048d331b2eb20": {
          "model_module": "@jupyter-widgets/controls",
          "model_name": "FloatProgressModel",
          "state": {
            "_view_name": "ProgressView",
            "style": "IPY_MODEL_0b460697b39b4c9a82fb948638d6f3fb",
            "_dom_classes": [],
            "description": "100%",
            "_model_name": "FloatProgressModel",
            "bar_style": "success",
            "max": 11,
            "_view_module": "@jupyter-widgets/controls",
            "_model_module_version": "1.5.0",
            "value": 11,
            "_view_count": null,
            "_view_module_version": "1.5.0",
            "orientation": "horizontal",
            "min": 0,
            "description_tooltip": null,
            "_model_module": "@jupyter-widgets/controls",
            "layout": "IPY_MODEL_a168b5aaf81f4114abab59cf92d1f21f"
          }
        },
        "3f4226af834b4d5c8623c0382683b3e3": {
          "model_module": "@jupyter-widgets/controls",
          "model_name": "HTMLModel",
          "state": {
            "_view_name": "HTMLView",
            "style": "IPY_MODEL_f75cfa7a5c604b64ad323a18556a8668",
            "_dom_classes": [],
            "description": "",
            "_model_name": "HTMLModel",
            "placeholder": "​",
            "_view_module": "@jupyter-widgets/controls",
            "_model_module_version": "1.5.0",
            "value": " 11/11 [01:04&lt;00:00,  5.88s/it]",
            "_view_count": null,
            "_view_module_version": "1.5.0",
            "description_tooltip": null,
            "_model_module": "@jupyter-widgets/controls",
            "layout": "IPY_MODEL_fedf36d33665453a8f65bf89f04114a2"
          }
        },
        "0b460697b39b4c9a82fb948638d6f3fb": {
          "model_module": "@jupyter-widgets/controls",
          "model_name": "ProgressStyleModel",
          "state": {
            "_view_name": "StyleView",
            "_model_name": "ProgressStyleModel",
            "description_width": "initial",
            "_view_module": "@jupyter-widgets/base",
            "_model_module_version": "1.5.0",
            "_view_count": null,
            "_view_module_version": "1.2.0",
            "bar_color": null,
            "_model_module": "@jupyter-widgets/controls"
          }
        },
        "a168b5aaf81f4114abab59cf92d1f21f": {
          "model_module": "@jupyter-widgets/base",
          "model_name": "LayoutModel",
          "state": {
            "_view_name": "LayoutView",
            "grid_template_rows": null,
            "right": null,
            "justify_content": null,
            "_view_module": "@jupyter-widgets/base",
            "overflow": null,
            "_model_module_version": "1.2.0",
            "_view_count": null,
            "flex_flow": null,
            "width": null,
            "min_width": null,
            "border": null,
            "align_items": null,
            "bottom": null,
            "_model_module": "@jupyter-widgets/base",
            "top": null,
            "grid_column": null,
            "overflow_y": null,
            "overflow_x": null,
            "grid_auto_flow": null,
            "grid_area": null,
            "grid_template_columns": null,
            "flex": null,
            "_model_name": "LayoutModel",
            "justify_items": null,
            "grid_row": null,
            "max_height": null,
            "align_content": null,
            "visibility": null,
            "align_self": null,
            "height": null,
            "min_height": null,
            "padding": null,
            "grid_auto_rows": null,
            "grid_gap": null,
            "max_width": null,
            "order": null,
            "_view_module_version": "1.2.0",
            "grid_template_areas": null,
            "object_position": null,
            "object_fit": null,
            "grid_auto_columns": null,
            "margin": null,
            "display": null,
            "left": null
          }
        },
        "f75cfa7a5c604b64ad323a18556a8668": {
          "model_module": "@jupyter-widgets/controls",
          "model_name": "DescriptionStyleModel",
          "state": {
            "_view_name": "StyleView",
            "_model_name": "DescriptionStyleModel",
            "description_width": "",
            "_view_module": "@jupyter-widgets/base",
            "_model_module_version": "1.5.0",
            "_view_count": null,
            "_view_module_version": "1.2.0",
            "_model_module": "@jupyter-widgets/controls"
          }
        },
        "fedf36d33665453a8f65bf89f04114a2": {
          "model_module": "@jupyter-widgets/base",
          "model_name": "LayoutModel",
          "state": {
            "_view_name": "LayoutView",
            "grid_template_rows": null,
            "right": null,
            "justify_content": null,
            "_view_module": "@jupyter-widgets/base",
            "overflow": null,
            "_model_module_version": "1.2.0",
            "_view_count": null,
            "flex_flow": null,
            "width": null,
            "min_width": null,
            "border": null,
            "align_items": null,
            "bottom": null,
            "_model_module": "@jupyter-widgets/base",
            "top": null,
            "grid_column": null,
            "overflow_y": null,
            "overflow_x": null,
            "grid_auto_flow": null,
            "grid_area": null,
            "grid_template_columns": null,
            "flex": null,
            "_model_name": "LayoutModel",
            "justify_items": null,
            "grid_row": null,
            "max_height": null,
            "align_content": null,
            "visibility": null,
            "align_self": null,
            "height": null,
            "min_height": null,
            "padding": null,
            "grid_auto_rows": null,
            "grid_gap": null,
            "max_width": null,
            "order": null,
            "_view_module_version": "1.2.0",
            "grid_template_areas": null,
            "object_position": null,
            "object_fit": null,
            "grid_auto_columns": null,
            "margin": null,
            "display": null,
            "left": null
          }
        },
        "7f90055d57624e24ab5d726ee95de673": {
          "model_module": "@jupyter-widgets/controls",
          "model_name": "HBoxModel",
          "state": {
            "_view_name": "HBoxView",
            "_dom_classes": [],
            "_model_name": "HBoxModel",
            "_view_module": "@jupyter-widgets/controls",
            "_model_module_version": "1.5.0",
            "_view_count": null,
            "_view_module_version": "1.5.0",
            "box_style": "",
            "layout": "IPY_MODEL_dd723b9533c84303a90e02ee927a254b",
            "_model_module": "@jupyter-widgets/controls",
            "children": [
              "IPY_MODEL_f83bf3ffae3a4bb8bc4ba731c889d287",
              "IPY_MODEL_1fcab2ec2fe146c89d55a73385cca1eb"
            ]
          }
        },
        "dd723b9533c84303a90e02ee927a254b": {
          "model_module": "@jupyter-widgets/base",
          "model_name": "LayoutModel",
          "state": {
            "_view_name": "LayoutView",
            "grid_template_rows": null,
            "right": null,
            "justify_content": null,
            "_view_module": "@jupyter-widgets/base",
            "overflow": null,
            "_model_module_version": "1.2.0",
            "_view_count": null,
            "flex_flow": null,
            "width": null,
            "min_width": null,
            "border": null,
            "align_items": null,
            "bottom": null,
            "_model_module": "@jupyter-widgets/base",
            "top": null,
            "grid_column": null,
            "overflow_y": null,
            "overflow_x": null,
            "grid_auto_flow": null,
            "grid_area": null,
            "grid_template_columns": null,
            "flex": null,
            "_model_name": "LayoutModel",
            "justify_items": null,
            "grid_row": null,
            "max_height": null,
            "align_content": null,
            "visibility": null,
            "align_self": null,
            "height": null,
            "min_height": null,
            "padding": null,
            "grid_auto_rows": null,
            "grid_gap": null,
            "max_width": null,
            "order": null,
            "_view_module_version": "1.2.0",
            "grid_template_areas": null,
            "object_position": null,
            "object_fit": null,
            "grid_auto_columns": null,
            "margin": null,
            "display": null,
            "left": null
          }
        },
        "f83bf3ffae3a4bb8bc4ba731c889d287": {
          "model_module": "@jupyter-widgets/controls",
          "model_name": "FloatProgressModel",
          "state": {
            "_view_name": "ProgressView",
            "style": "IPY_MODEL_951b306d3828488ba33aac5c53a51f1e",
            "_dom_classes": [],
            "description": "100%",
            "_model_name": "FloatProgressModel",
            "bar_style": "success",
            "max": 57,
            "_view_module": "@jupyter-widgets/controls",
            "_model_module_version": "1.5.0",
            "value": 57,
            "_view_count": null,
            "_view_module_version": "1.5.0",
            "orientation": "horizontal",
            "min": 0,
            "description_tooltip": null,
            "_model_module": "@jupyter-widgets/controls",
            "layout": "IPY_MODEL_ed6dc18d2d604aeea3f1b8e44ca67d36"
          }
        },
        "1fcab2ec2fe146c89d55a73385cca1eb": {
          "model_module": "@jupyter-widgets/controls",
          "model_name": "HTMLModel",
          "state": {
            "_view_name": "HTMLView",
            "style": "IPY_MODEL_600f6809c00e41d8abdf7ea6f7b0ce13",
            "_dom_classes": [],
            "description": "",
            "_model_name": "HTMLModel",
            "placeholder": "​",
            "_view_module": "@jupyter-widgets/controls",
            "_model_module_version": "1.5.0",
            "value": " 57/57 [09:18&lt;00:00,  9.80s/it]",
            "_view_count": null,
            "_view_module_version": "1.5.0",
            "description_tooltip": null,
            "_model_module": "@jupyter-widgets/controls",
            "layout": "IPY_MODEL_eb3c60d949f24b8c80734e79eff9fb81"
          }
        },
        "951b306d3828488ba33aac5c53a51f1e": {
          "model_module": "@jupyter-widgets/controls",
          "model_name": "ProgressStyleModel",
          "state": {
            "_view_name": "StyleView",
            "_model_name": "ProgressStyleModel",
            "description_width": "initial",
            "_view_module": "@jupyter-widgets/base",
            "_model_module_version": "1.5.0",
            "_view_count": null,
            "_view_module_version": "1.2.0",
            "bar_color": null,
            "_model_module": "@jupyter-widgets/controls"
          }
        },
        "ed6dc18d2d604aeea3f1b8e44ca67d36": {
          "model_module": "@jupyter-widgets/base",
          "model_name": "LayoutModel",
          "state": {
            "_view_name": "LayoutView",
            "grid_template_rows": null,
            "right": null,
            "justify_content": null,
            "_view_module": "@jupyter-widgets/base",
            "overflow": null,
            "_model_module_version": "1.2.0",
            "_view_count": null,
            "flex_flow": null,
            "width": null,
            "min_width": null,
            "border": null,
            "align_items": null,
            "bottom": null,
            "_model_module": "@jupyter-widgets/base",
            "top": null,
            "grid_column": null,
            "overflow_y": null,
            "overflow_x": null,
            "grid_auto_flow": null,
            "grid_area": null,
            "grid_template_columns": null,
            "flex": null,
            "_model_name": "LayoutModel",
            "justify_items": null,
            "grid_row": null,
            "max_height": null,
            "align_content": null,
            "visibility": null,
            "align_self": null,
            "height": null,
            "min_height": null,
            "padding": null,
            "grid_auto_rows": null,
            "grid_gap": null,
            "max_width": null,
            "order": null,
            "_view_module_version": "1.2.0",
            "grid_template_areas": null,
            "object_position": null,
            "object_fit": null,
            "grid_auto_columns": null,
            "margin": null,
            "display": null,
            "left": null
          }
        },
        "600f6809c00e41d8abdf7ea6f7b0ce13": {
          "model_module": "@jupyter-widgets/controls",
          "model_name": "DescriptionStyleModel",
          "state": {
            "_view_name": "StyleView",
            "_model_name": "DescriptionStyleModel",
            "description_width": "",
            "_view_module": "@jupyter-widgets/base",
            "_model_module_version": "1.5.0",
            "_view_count": null,
            "_view_module_version": "1.2.0",
            "_model_module": "@jupyter-widgets/controls"
          }
        },
        "eb3c60d949f24b8c80734e79eff9fb81": {
          "model_module": "@jupyter-widgets/base",
          "model_name": "LayoutModel",
          "state": {
            "_view_name": "LayoutView",
            "grid_template_rows": null,
            "right": null,
            "justify_content": null,
            "_view_module": "@jupyter-widgets/base",
            "overflow": null,
            "_model_module_version": "1.2.0",
            "_view_count": null,
            "flex_flow": null,
            "width": null,
            "min_width": null,
            "border": null,
            "align_items": null,
            "bottom": null,
            "_model_module": "@jupyter-widgets/base",
            "top": null,
            "grid_column": null,
            "overflow_y": null,
            "overflow_x": null,
            "grid_auto_flow": null,
            "grid_area": null,
            "grid_template_columns": null,
            "flex": null,
            "_model_name": "LayoutModel",
            "justify_items": null,
            "grid_row": null,
            "max_height": null,
            "align_content": null,
            "visibility": null,
            "align_self": null,
            "height": null,
            "min_height": null,
            "padding": null,
            "grid_auto_rows": null,
            "grid_gap": null,
            "max_width": null,
            "order": null,
            "_view_module_version": "1.2.0",
            "grid_template_areas": null,
            "object_position": null,
            "object_fit": null,
            "grid_auto_columns": null,
            "margin": null,
            "display": null,
            "left": null
          }
        },
        "c5aeed9467074ae7b9e05eb51af6bd53": {
          "model_module": "@jupyter-widgets/controls",
          "model_name": "HBoxModel",
          "state": {
            "_view_name": "HBoxView",
            "_dom_classes": [],
            "_model_name": "HBoxModel",
            "_view_module": "@jupyter-widgets/controls",
            "_model_module_version": "1.5.0",
            "_view_count": null,
            "_view_module_version": "1.5.0",
            "box_style": "",
            "layout": "IPY_MODEL_400bd4f697d248ecb021400160301c5a",
            "_model_module": "@jupyter-widgets/controls",
            "children": [
              "IPY_MODEL_57874ac190864293bae16514b77947a8",
              "IPY_MODEL_a30ef3162c9944e79d621a86b397d42b"
            ]
          }
        },
        "400bd4f697d248ecb021400160301c5a": {
          "model_module": "@jupyter-widgets/base",
          "model_name": "LayoutModel",
          "state": {
            "_view_name": "LayoutView",
            "grid_template_rows": null,
            "right": null,
            "justify_content": null,
            "_view_module": "@jupyter-widgets/base",
            "overflow": null,
            "_model_module_version": "1.2.0",
            "_view_count": null,
            "flex_flow": null,
            "width": null,
            "min_width": null,
            "border": null,
            "align_items": null,
            "bottom": null,
            "_model_module": "@jupyter-widgets/base",
            "top": null,
            "grid_column": null,
            "overflow_y": null,
            "overflow_x": null,
            "grid_auto_flow": null,
            "grid_area": null,
            "grid_template_columns": null,
            "flex": null,
            "_model_name": "LayoutModel",
            "justify_items": null,
            "grid_row": null,
            "max_height": null,
            "align_content": null,
            "visibility": null,
            "align_self": null,
            "height": null,
            "min_height": null,
            "padding": null,
            "grid_auto_rows": null,
            "grid_gap": null,
            "max_width": null,
            "order": null,
            "_view_module_version": "1.2.0",
            "grid_template_areas": null,
            "object_position": null,
            "object_fit": null,
            "grid_auto_columns": null,
            "margin": null,
            "display": null,
            "left": null
          }
        },
        "57874ac190864293bae16514b77947a8": {
          "model_module": "@jupyter-widgets/controls",
          "model_name": "FloatProgressModel",
          "state": {
            "_view_name": "ProgressView",
            "style": "IPY_MODEL_389140f1744c47b2ab14ced38611cbb5",
            "_dom_classes": [],
            "description": "100%",
            "_model_name": "FloatProgressModel",
            "bar_style": "success",
            "max": 11,
            "_view_module": "@jupyter-widgets/controls",
            "_model_module_version": "1.5.0",
            "value": 11,
            "_view_count": null,
            "_view_module_version": "1.5.0",
            "orientation": "horizontal",
            "min": 0,
            "description_tooltip": null,
            "_model_module": "@jupyter-widgets/controls",
            "layout": "IPY_MODEL_081cdfbd6b2847568bdfa3fa354ed439"
          }
        },
        "a30ef3162c9944e79d621a86b397d42b": {
          "model_module": "@jupyter-widgets/controls",
          "model_name": "HTMLModel",
          "state": {
            "_view_name": "HTMLView",
            "style": "IPY_MODEL_3066e5e5ecc34e5ca6e09313460ec7fd",
            "_dom_classes": [],
            "description": "",
            "_model_name": "HTMLModel",
            "placeholder": "​",
            "_view_module": "@jupyter-widgets/controls",
            "_model_module_version": "1.5.0",
            "value": " 11/11 [02:10&lt;00:00, 11.90s/it]",
            "_view_count": null,
            "_view_module_version": "1.5.0",
            "description_tooltip": null,
            "_model_module": "@jupyter-widgets/controls",
            "layout": "IPY_MODEL_a3f9cc5e81fd456c86c245408207229a"
          }
        },
        "389140f1744c47b2ab14ced38611cbb5": {
          "model_module": "@jupyter-widgets/controls",
          "model_name": "ProgressStyleModel",
          "state": {
            "_view_name": "StyleView",
            "_model_name": "ProgressStyleModel",
            "description_width": "initial",
            "_view_module": "@jupyter-widgets/base",
            "_model_module_version": "1.5.0",
            "_view_count": null,
            "_view_module_version": "1.2.0",
            "bar_color": null,
            "_model_module": "@jupyter-widgets/controls"
          }
        },
        "081cdfbd6b2847568bdfa3fa354ed439": {
          "model_module": "@jupyter-widgets/base",
          "model_name": "LayoutModel",
          "state": {
            "_view_name": "LayoutView",
            "grid_template_rows": null,
            "right": null,
            "justify_content": null,
            "_view_module": "@jupyter-widgets/base",
            "overflow": null,
            "_model_module_version": "1.2.0",
            "_view_count": null,
            "flex_flow": null,
            "width": null,
            "min_width": null,
            "border": null,
            "align_items": null,
            "bottom": null,
            "_model_module": "@jupyter-widgets/base",
            "top": null,
            "grid_column": null,
            "overflow_y": null,
            "overflow_x": null,
            "grid_auto_flow": null,
            "grid_area": null,
            "grid_template_columns": null,
            "flex": null,
            "_model_name": "LayoutModel",
            "justify_items": null,
            "grid_row": null,
            "max_height": null,
            "align_content": null,
            "visibility": null,
            "align_self": null,
            "height": null,
            "min_height": null,
            "padding": null,
            "grid_auto_rows": null,
            "grid_gap": null,
            "max_width": null,
            "order": null,
            "_view_module_version": "1.2.0",
            "grid_template_areas": null,
            "object_position": null,
            "object_fit": null,
            "grid_auto_columns": null,
            "margin": null,
            "display": null,
            "left": null
          }
        },
        "3066e5e5ecc34e5ca6e09313460ec7fd": {
          "model_module": "@jupyter-widgets/controls",
          "model_name": "DescriptionStyleModel",
          "state": {
            "_view_name": "StyleView",
            "_model_name": "DescriptionStyleModel",
            "description_width": "",
            "_view_module": "@jupyter-widgets/base",
            "_model_module_version": "1.5.0",
            "_view_count": null,
            "_view_module_version": "1.2.0",
            "_model_module": "@jupyter-widgets/controls"
          }
        },
        "a3f9cc5e81fd456c86c245408207229a": {
          "model_module": "@jupyter-widgets/base",
          "model_name": "LayoutModel",
          "state": {
            "_view_name": "LayoutView",
            "grid_template_rows": null,
            "right": null,
            "justify_content": null,
            "_view_module": "@jupyter-widgets/base",
            "overflow": null,
            "_model_module_version": "1.2.0",
            "_view_count": null,
            "flex_flow": null,
            "width": null,
            "min_width": null,
            "border": null,
            "align_items": null,
            "bottom": null,
            "_model_module": "@jupyter-widgets/base",
            "top": null,
            "grid_column": null,
            "overflow_y": null,
            "overflow_x": null,
            "grid_auto_flow": null,
            "grid_area": null,
            "grid_template_columns": null,
            "flex": null,
            "_model_name": "LayoutModel",
            "justify_items": null,
            "grid_row": null,
            "max_height": null,
            "align_content": null,
            "visibility": null,
            "align_self": null,
            "height": null,
            "min_height": null,
            "padding": null,
            "grid_auto_rows": null,
            "grid_gap": null,
            "max_width": null,
            "order": null,
            "_view_module_version": "1.2.0",
            "grid_template_areas": null,
            "object_position": null,
            "object_fit": null,
            "grid_auto_columns": null,
            "margin": null,
            "display": null,
            "left": null
          }
        },
        "48473393620441f8b8c09dc37b0bf9ce": {
          "model_module": "@jupyter-widgets/controls",
          "model_name": "HBoxModel",
          "state": {
            "_view_name": "HBoxView",
            "_dom_classes": [],
            "_model_name": "HBoxModel",
            "_view_module": "@jupyter-widgets/controls",
            "_model_module_version": "1.5.0",
            "_view_count": null,
            "_view_module_version": "1.5.0",
            "box_style": "",
            "layout": "IPY_MODEL_c10a94272cfb4beeb14531be87a2ed4a",
            "_model_module": "@jupyter-widgets/controls",
            "children": [
              "IPY_MODEL_8c05cc821ae949708bfe73690dfc3307",
              "IPY_MODEL_ca6e47d6f38248c386ff80af80771c45"
            ]
          }
        },
        "c10a94272cfb4beeb14531be87a2ed4a": {
          "model_module": "@jupyter-widgets/base",
          "model_name": "LayoutModel",
          "state": {
            "_view_name": "LayoutView",
            "grid_template_rows": null,
            "right": null,
            "justify_content": null,
            "_view_module": "@jupyter-widgets/base",
            "overflow": null,
            "_model_module_version": "1.2.0",
            "_view_count": null,
            "flex_flow": null,
            "width": null,
            "min_width": null,
            "border": null,
            "align_items": null,
            "bottom": null,
            "_model_module": "@jupyter-widgets/base",
            "top": null,
            "grid_column": null,
            "overflow_y": null,
            "overflow_x": null,
            "grid_auto_flow": null,
            "grid_area": null,
            "grid_template_columns": null,
            "flex": null,
            "_model_name": "LayoutModel",
            "justify_items": null,
            "grid_row": null,
            "max_height": null,
            "align_content": null,
            "visibility": null,
            "align_self": null,
            "height": null,
            "min_height": null,
            "padding": null,
            "grid_auto_rows": null,
            "grid_gap": null,
            "max_width": null,
            "order": null,
            "_view_module_version": "1.2.0",
            "grid_template_areas": null,
            "object_position": null,
            "object_fit": null,
            "grid_auto_columns": null,
            "margin": null,
            "display": null,
            "left": null
          }
        },
        "8c05cc821ae949708bfe73690dfc3307": {
          "model_module": "@jupyter-widgets/controls",
          "model_name": "FloatProgressModel",
          "state": {
            "_view_name": "ProgressView",
            "style": "IPY_MODEL_473e605a93c649f29977ca68b7444c16",
            "_dom_classes": [],
            "description": "100%",
            "_model_name": "FloatProgressModel",
            "bar_style": "success",
            "max": 57,
            "_view_module": "@jupyter-widgets/controls",
            "_model_module_version": "1.5.0",
            "value": 57,
            "_view_count": null,
            "_view_module_version": "1.5.0",
            "orientation": "horizontal",
            "min": 0,
            "description_tooltip": null,
            "_model_module": "@jupyter-widgets/controls",
            "layout": "IPY_MODEL_be59d55427cf4f3593f266129cd917b1"
          }
        },
        "ca6e47d6f38248c386ff80af80771c45": {
          "model_module": "@jupyter-widgets/controls",
          "model_name": "HTMLModel",
          "state": {
            "_view_name": "HTMLView",
            "style": "IPY_MODEL_a49a2475e7b74186abbc3e60ec866b66",
            "_dom_classes": [],
            "description": "",
            "_model_name": "HTMLModel",
            "placeholder": "​",
            "_view_module": "@jupyter-widgets/controls",
            "_model_module_version": "1.5.0",
            "value": " 57/57 [01:51&lt;00:00,  1.96s/it]",
            "_view_count": null,
            "_view_module_version": "1.5.0",
            "description_tooltip": null,
            "_model_module": "@jupyter-widgets/controls",
            "layout": "IPY_MODEL_ebf37bb958f5446c97ac15bf223250cd"
          }
        },
        "473e605a93c649f29977ca68b7444c16": {
          "model_module": "@jupyter-widgets/controls",
          "model_name": "ProgressStyleModel",
          "state": {
            "_view_name": "StyleView",
            "_model_name": "ProgressStyleModel",
            "description_width": "initial",
            "_view_module": "@jupyter-widgets/base",
            "_model_module_version": "1.5.0",
            "_view_count": null,
            "_view_module_version": "1.2.0",
            "bar_color": null,
            "_model_module": "@jupyter-widgets/controls"
          }
        },
        "be59d55427cf4f3593f266129cd917b1": {
          "model_module": "@jupyter-widgets/base",
          "model_name": "LayoutModel",
          "state": {
            "_view_name": "LayoutView",
            "grid_template_rows": null,
            "right": null,
            "justify_content": null,
            "_view_module": "@jupyter-widgets/base",
            "overflow": null,
            "_model_module_version": "1.2.0",
            "_view_count": null,
            "flex_flow": null,
            "width": null,
            "min_width": null,
            "border": null,
            "align_items": null,
            "bottom": null,
            "_model_module": "@jupyter-widgets/base",
            "top": null,
            "grid_column": null,
            "overflow_y": null,
            "overflow_x": null,
            "grid_auto_flow": null,
            "grid_area": null,
            "grid_template_columns": null,
            "flex": null,
            "_model_name": "LayoutModel",
            "justify_items": null,
            "grid_row": null,
            "max_height": null,
            "align_content": null,
            "visibility": null,
            "align_self": null,
            "height": null,
            "min_height": null,
            "padding": null,
            "grid_auto_rows": null,
            "grid_gap": null,
            "max_width": null,
            "order": null,
            "_view_module_version": "1.2.0",
            "grid_template_areas": null,
            "object_position": null,
            "object_fit": null,
            "grid_auto_columns": null,
            "margin": null,
            "display": null,
            "left": null
          }
        },
        "a49a2475e7b74186abbc3e60ec866b66": {
          "model_module": "@jupyter-widgets/controls",
          "model_name": "DescriptionStyleModel",
          "state": {
            "_view_name": "StyleView",
            "_model_name": "DescriptionStyleModel",
            "description_width": "",
            "_view_module": "@jupyter-widgets/base",
            "_model_module_version": "1.5.0",
            "_view_count": null,
            "_view_module_version": "1.2.0",
            "_model_module": "@jupyter-widgets/controls"
          }
        },
        "ebf37bb958f5446c97ac15bf223250cd": {
          "model_module": "@jupyter-widgets/base",
          "model_name": "LayoutModel",
          "state": {
            "_view_name": "LayoutView",
            "grid_template_rows": null,
            "right": null,
            "justify_content": null,
            "_view_module": "@jupyter-widgets/base",
            "overflow": null,
            "_model_module_version": "1.2.0",
            "_view_count": null,
            "flex_flow": null,
            "width": null,
            "min_width": null,
            "border": null,
            "align_items": null,
            "bottom": null,
            "_model_module": "@jupyter-widgets/base",
            "top": null,
            "grid_column": null,
            "overflow_y": null,
            "overflow_x": null,
            "grid_auto_flow": null,
            "grid_area": null,
            "grid_template_columns": null,
            "flex": null,
            "_model_name": "LayoutModel",
            "justify_items": null,
            "grid_row": null,
            "max_height": null,
            "align_content": null,
            "visibility": null,
            "align_self": null,
            "height": null,
            "min_height": null,
            "padding": null,
            "grid_auto_rows": null,
            "grid_gap": null,
            "max_width": null,
            "order": null,
            "_view_module_version": "1.2.0",
            "grid_template_areas": null,
            "object_position": null,
            "object_fit": null,
            "grid_auto_columns": null,
            "margin": null,
            "display": null,
            "left": null
          }
        },
        "fc04708eda864d9186d68d96a8c51a3f": {
          "model_module": "@jupyter-widgets/controls",
          "model_name": "HBoxModel",
          "state": {
            "_view_name": "HBoxView",
            "_dom_classes": [],
            "_model_name": "HBoxModel",
            "_view_module": "@jupyter-widgets/controls",
            "_model_module_version": "1.5.0",
            "_view_count": null,
            "_view_module_version": "1.5.0",
            "box_style": "",
            "layout": "IPY_MODEL_55f17b7730bd432f836a037d6b539c64",
            "_model_module": "@jupyter-widgets/controls",
            "children": [
              "IPY_MODEL_f67967019d584efabc48cd49df66ccbe",
              "IPY_MODEL_465129b49a774c309466068180c9b182"
            ]
          }
        },
        "55f17b7730bd432f836a037d6b539c64": {
          "model_module": "@jupyter-widgets/base",
          "model_name": "LayoutModel",
          "state": {
            "_view_name": "LayoutView",
            "grid_template_rows": null,
            "right": null,
            "justify_content": null,
            "_view_module": "@jupyter-widgets/base",
            "overflow": null,
            "_model_module_version": "1.2.0",
            "_view_count": null,
            "flex_flow": null,
            "width": null,
            "min_width": null,
            "border": null,
            "align_items": null,
            "bottom": null,
            "_model_module": "@jupyter-widgets/base",
            "top": null,
            "grid_column": null,
            "overflow_y": null,
            "overflow_x": null,
            "grid_auto_flow": null,
            "grid_area": null,
            "grid_template_columns": null,
            "flex": null,
            "_model_name": "LayoutModel",
            "justify_items": null,
            "grid_row": null,
            "max_height": null,
            "align_content": null,
            "visibility": null,
            "align_self": null,
            "height": null,
            "min_height": null,
            "padding": null,
            "grid_auto_rows": null,
            "grid_gap": null,
            "max_width": null,
            "order": null,
            "_view_module_version": "1.2.0",
            "grid_template_areas": null,
            "object_position": null,
            "object_fit": null,
            "grid_auto_columns": null,
            "margin": null,
            "display": null,
            "left": null
          }
        },
        "f67967019d584efabc48cd49df66ccbe": {
          "model_module": "@jupyter-widgets/controls",
          "model_name": "FloatProgressModel",
          "state": {
            "_view_name": "ProgressView",
            "style": "IPY_MODEL_927e0697be7141eea9a83222c40b2065",
            "_dom_classes": [],
            "description": "100%",
            "_model_name": "FloatProgressModel",
            "bar_style": "success",
            "max": 11,
            "_view_module": "@jupyter-widgets/controls",
            "_model_module_version": "1.5.0",
            "value": 11,
            "_view_count": null,
            "_view_module_version": "1.5.0",
            "orientation": "horizontal",
            "min": 0,
            "description_tooltip": null,
            "_model_module": "@jupyter-widgets/controls",
            "layout": "IPY_MODEL_f8568795cfa14a608ce817b21abeb6f2"
          }
        },
        "465129b49a774c309466068180c9b182": {
          "model_module": "@jupyter-widgets/controls",
          "model_name": "HTMLModel",
          "state": {
            "_view_name": "HTMLView",
            "style": "IPY_MODEL_90730739ec2749c1af0d2745d53fc30c",
            "_dom_classes": [],
            "description": "",
            "_model_name": "HTMLModel",
            "placeholder": "​",
            "_view_module": "@jupyter-widgets/controls",
            "_model_module_version": "1.5.0",
            "value": " 11/11 [05:24&lt;00:00, 29.52s/it]",
            "_view_count": null,
            "_view_module_version": "1.5.0",
            "description_tooltip": null,
            "_model_module": "@jupyter-widgets/controls",
            "layout": "IPY_MODEL_6f6198f5680e4b0aaf24a2c5648decf5"
          }
        },
        "927e0697be7141eea9a83222c40b2065": {
          "model_module": "@jupyter-widgets/controls",
          "model_name": "ProgressStyleModel",
          "state": {
            "_view_name": "StyleView",
            "_model_name": "ProgressStyleModel",
            "description_width": "initial",
            "_view_module": "@jupyter-widgets/base",
            "_model_module_version": "1.5.0",
            "_view_count": null,
            "_view_module_version": "1.2.0",
            "bar_color": null,
            "_model_module": "@jupyter-widgets/controls"
          }
        },
        "f8568795cfa14a608ce817b21abeb6f2": {
          "model_module": "@jupyter-widgets/base",
          "model_name": "LayoutModel",
          "state": {
            "_view_name": "LayoutView",
            "grid_template_rows": null,
            "right": null,
            "justify_content": null,
            "_view_module": "@jupyter-widgets/base",
            "overflow": null,
            "_model_module_version": "1.2.0",
            "_view_count": null,
            "flex_flow": null,
            "width": null,
            "min_width": null,
            "border": null,
            "align_items": null,
            "bottom": null,
            "_model_module": "@jupyter-widgets/base",
            "top": null,
            "grid_column": null,
            "overflow_y": null,
            "overflow_x": null,
            "grid_auto_flow": null,
            "grid_area": null,
            "grid_template_columns": null,
            "flex": null,
            "_model_name": "LayoutModel",
            "justify_items": null,
            "grid_row": null,
            "max_height": null,
            "align_content": null,
            "visibility": null,
            "align_self": null,
            "height": null,
            "min_height": null,
            "padding": null,
            "grid_auto_rows": null,
            "grid_gap": null,
            "max_width": null,
            "order": null,
            "_view_module_version": "1.2.0",
            "grid_template_areas": null,
            "object_position": null,
            "object_fit": null,
            "grid_auto_columns": null,
            "margin": null,
            "display": null,
            "left": null
          }
        },
        "90730739ec2749c1af0d2745d53fc30c": {
          "model_module": "@jupyter-widgets/controls",
          "model_name": "DescriptionStyleModel",
          "state": {
            "_view_name": "StyleView",
            "_model_name": "DescriptionStyleModel",
            "description_width": "",
            "_view_module": "@jupyter-widgets/base",
            "_model_module_version": "1.5.0",
            "_view_count": null,
            "_view_module_version": "1.2.0",
            "_model_module": "@jupyter-widgets/controls"
          }
        },
        "6f6198f5680e4b0aaf24a2c5648decf5": {
          "model_module": "@jupyter-widgets/base",
          "model_name": "LayoutModel",
          "state": {
            "_view_name": "LayoutView",
            "grid_template_rows": null,
            "right": null,
            "justify_content": null,
            "_view_module": "@jupyter-widgets/base",
            "overflow": null,
            "_model_module_version": "1.2.0",
            "_view_count": null,
            "flex_flow": null,
            "width": null,
            "min_width": null,
            "border": null,
            "align_items": null,
            "bottom": null,
            "_model_module": "@jupyter-widgets/base",
            "top": null,
            "grid_column": null,
            "overflow_y": null,
            "overflow_x": null,
            "grid_auto_flow": null,
            "grid_area": null,
            "grid_template_columns": null,
            "flex": null,
            "_model_name": "LayoutModel",
            "justify_items": null,
            "grid_row": null,
            "max_height": null,
            "align_content": null,
            "visibility": null,
            "align_self": null,
            "height": null,
            "min_height": null,
            "padding": null,
            "grid_auto_rows": null,
            "grid_gap": null,
            "max_width": null,
            "order": null,
            "_view_module_version": "1.2.0",
            "grid_template_areas": null,
            "object_position": null,
            "object_fit": null,
            "grid_auto_columns": null,
            "margin": null,
            "display": null,
            "left": null
          }
        },
        "caf4542a7a6a49d88bad5b922af1bd05": {
          "model_module": "@jupyter-widgets/controls",
          "model_name": "HBoxModel",
          "state": {
            "_view_name": "HBoxView",
            "_dom_classes": [],
            "_model_name": "HBoxModel",
            "_view_module": "@jupyter-widgets/controls",
            "_model_module_version": "1.5.0",
            "_view_count": null,
            "_view_module_version": "1.5.0",
            "box_style": "",
            "layout": "IPY_MODEL_681333d994be4a0d8cbbf6e2d8979a0d",
            "_model_module": "@jupyter-widgets/controls",
            "children": [
              "IPY_MODEL_05339a679d2146eeb282672f00b8d0c5",
              "IPY_MODEL_24705dbf24214999b360b786ae21607d"
            ]
          }
        },
        "681333d994be4a0d8cbbf6e2d8979a0d": {
          "model_module": "@jupyter-widgets/base",
          "model_name": "LayoutModel",
          "state": {
            "_view_name": "LayoutView",
            "grid_template_rows": null,
            "right": null,
            "justify_content": null,
            "_view_module": "@jupyter-widgets/base",
            "overflow": null,
            "_model_module_version": "1.2.0",
            "_view_count": null,
            "flex_flow": null,
            "width": null,
            "min_width": null,
            "border": null,
            "align_items": null,
            "bottom": null,
            "_model_module": "@jupyter-widgets/base",
            "top": null,
            "grid_column": null,
            "overflow_y": null,
            "overflow_x": null,
            "grid_auto_flow": null,
            "grid_area": null,
            "grid_template_columns": null,
            "flex": null,
            "_model_name": "LayoutModel",
            "justify_items": null,
            "grid_row": null,
            "max_height": null,
            "align_content": null,
            "visibility": null,
            "align_self": null,
            "height": null,
            "min_height": null,
            "padding": null,
            "grid_auto_rows": null,
            "grid_gap": null,
            "max_width": null,
            "order": null,
            "_view_module_version": "1.2.0",
            "grid_template_areas": null,
            "object_position": null,
            "object_fit": null,
            "grid_auto_columns": null,
            "margin": null,
            "display": null,
            "left": null
          }
        },
        "05339a679d2146eeb282672f00b8d0c5": {
          "model_module": "@jupyter-widgets/controls",
          "model_name": "FloatProgressModel",
          "state": {
            "_view_name": "ProgressView",
            "style": "IPY_MODEL_1ea035c7d6814e538b12bc5a6463d891",
            "_dom_classes": [],
            "description": "100%",
            "_model_name": "FloatProgressModel",
            "bar_style": "success",
            "max": 57,
            "_view_module": "@jupyter-widgets/controls",
            "_model_module_version": "1.5.0",
            "value": 57,
            "_view_count": null,
            "_view_module_version": "1.5.0",
            "orientation": "horizontal",
            "min": 0,
            "description_tooltip": null,
            "_model_module": "@jupyter-widgets/controls",
            "layout": "IPY_MODEL_7253ec50dc974e6dbf5f8dfb099bea00"
          }
        },
        "24705dbf24214999b360b786ae21607d": {
          "model_module": "@jupyter-widgets/controls",
          "model_name": "HTMLModel",
          "state": {
            "_view_name": "HTMLView",
            "style": "IPY_MODEL_33ff701fd7df401abffd0078f5e7da33",
            "_dom_classes": [],
            "description": "",
            "_model_name": "HTMLModel",
            "placeholder": "​",
            "_view_module": "@jupyter-widgets/controls",
            "_model_module_version": "1.5.0",
            "value": " 57/57 [02:18&lt;00:00,  2.43s/it]",
            "_view_count": null,
            "_view_module_version": "1.5.0",
            "description_tooltip": null,
            "_model_module": "@jupyter-widgets/controls",
            "layout": "IPY_MODEL_9f6942c178ea422c8d03bfe6ed00bfe2"
          }
        },
        "1ea035c7d6814e538b12bc5a6463d891": {
          "model_module": "@jupyter-widgets/controls",
          "model_name": "ProgressStyleModel",
          "state": {
            "_view_name": "StyleView",
            "_model_name": "ProgressStyleModel",
            "description_width": "initial",
            "_view_module": "@jupyter-widgets/base",
            "_model_module_version": "1.5.0",
            "_view_count": null,
            "_view_module_version": "1.2.0",
            "bar_color": null,
            "_model_module": "@jupyter-widgets/controls"
          }
        },
        "7253ec50dc974e6dbf5f8dfb099bea00": {
          "model_module": "@jupyter-widgets/base",
          "model_name": "LayoutModel",
          "state": {
            "_view_name": "LayoutView",
            "grid_template_rows": null,
            "right": null,
            "justify_content": null,
            "_view_module": "@jupyter-widgets/base",
            "overflow": null,
            "_model_module_version": "1.2.0",
            "_view_count": null,
            "flex_flow": null,
            "width": null,
            "min_width": null,
            "border": null,
            "align_items": null,
            "bottom": null,
            "_model_module": "@jupyter-widgets/base",
            "top": null,
            "grid_column": null,
            "overflow_y": null,
            "overflow_x": null,
            "grid_auto_flow": null,
            "grid_area": null,
            "grid_template_columns": null,
            "flex": null,
            "_model_name": "LayoutModel",
            "justify_items": null,
            "grid_row": null,
            "max_height": null,
            "align_content": null,
            "visibility": null,
            "align_self": null,
            "height": null,
            "min_height": null,
            "padding": null,
            "grid_auto_rows": null,
            "grid_gap": null,
            "max_width": null,
            "order": null,
            "_view_module_version": "1.2.0",
            "grid_template_areas": null,
            "object_position": null,
            "object_fit": null,
            "grid_auto_columns": null,
            "margin": null,
            "display": null,
            "left": null
          }
        },
        "33ff701fd7df401abffd0078f5e7da33": {
          "model_module": "@jupyter-widgets/controls",
          "model_name": "DescriptionStyleModel",
          "state": {
            "_view_name": "StyleView",
            "_model_name": "DescriptionStyleModel",
            "description_width": "",
            "_view_module": "@jupyter-widgets/base",
            "_model_module_version": "1.5.0",
            "_view_count": null,
            "_view_module_version": "1.2.0",
            "_model_module": "@jupyter-widgets/controls"
          }
        },
        "9f6942c178ea422c8d03bfe6ed00bfe2": {
          "model_module": "@jupyter-widgets/base",
          "model_name": "LayoutModel",
          "state": {
            "_view_name": "LayoutView",
            "grid_template_rows": null,
            "right": null,
            "justify_content": null,
            "_view_module": "@jupyter-widgets/base",
            "overflow": null,
            "_model_module_version": "1.2.0",
            "_view_count": null,
            "flex_flow": null,
            "width": null,
            "min_width": null,
            "border": null,
            "align_items": null,
            "bottom": null,
            "_model_module": "@jupyter-widgets/base",
            "top": null,
            "grid_column": null,
            "overflow_y": null,
            "overflow_x": null,
            "grid_auto_flow": null,
            "grid_area": null,
            "grid_template_columns": null,
            "flex": null,
            "_model_name": "LayoutModel",
            "justify_items": null,
            "grid_row": null,
            "max_height": null,
            "align_content": null,
            "visibility": null,
            "align_self": null,
            "height": null,
            "min_height": null,
            "padding": null,
            "grid_auto_rows": null,
            "grid_gap": null,
            "max_width": null,
            "order": null,
            "_view_module_version": "1.2.0",
            "grid_template_areas": null,
            "object_position": null,
            "object_fit": null,
            "grid_auto_columns": null,
            "margin": null,
            "display": null,
            "left": null
          }
        },
        "a5aff4c9b00a43e0992fc8e9851bbf9a": {
          "model_module": "@jupyter-widgets/controls",
          "model_name": "HBoxModel",
          "state": {
            "_view_name": "HBoxView",
            "_dom_classes": [],
            "_model_name": "HBoxModel",
            "_view_module": "@jupyter-widgets/controls",
            "_model_module_version": "1.5.0",
            "_view_count": null,
            "_view_module_version": "1.5.0",
            "box_style": "",
            "layout": "IPY_MODEL_b1a7ee76b1bd416084014c64b38b16f5",
            "_model_module": "@jupyter-widgets/controls",
            "children": [
              "IPY_MODEL_0513309e4e914c5faefe3937480329b0",
              "IPY_MODEL_5433e11a5dbe4dd79a3bf3b6e5d9a18c"
            ]
          }
        },
        "b1a7ee76b1bd416084014c64b38b16f5": {
          "model_module": "@jupyter-widgets/base",
          "model_name": "LayoutModel",
          "state": {
            "_view_name": "LayoutView",
            "grid_template_rows": null,
            "right": null,
            "justify_content": null,
            "_view_module": "@jupyter-widgets/base",
            "overflow": null,
            "_model_module_version": "1.2.0",
            "_view_count": null,
            "flex_flow": null,
            "width": null,
            "min_width": null,
            "border": null,
            "align_items": null,
            "bottom": null,
            "_model_module": "@jupyter-widgets/base",
            "top": null,
            "grid_column": null,
            "overflow_y": null,
            "overflow_x": null,
            "grid_auto_flow": null,
            "grid_area": null,
            "grid_template_columns": null,
            "flex": null,
            "_model_name": "LayoutModel",
            "justify_items": null,
            "grid_row": null,
            "max_height": null,
            "align_content": null,
            "visibility": null,
            "align_self": null,
            "height": null,
            "min_height": null,
            "padding": null,
            "grid_auto_rows": null,
            "grid_gap": null,
            "max_width": null,
            "order": null,
            "_view_module_version": "1.2.0",
            "grid_template_areas": null,
            "object_position": null,
            "object_fit": null,
            "grid_auto_columns": null,
            "margin": null,
            "display": null,
            "left": null
          }
        },
        "0513309e4e914c5faefe3937480329b0": {
          "model_module": "@jupyter-widgets/controls",
          "model_name": "FloatProgressModel",
          "state": {
            "_view_name": "ProgressView",
            "style": "IPY_MODEL_2ac2dd2e93b744dc8dadc1300bc8f755",
            "_dom_classes": [],
            "description": "100%",
            "_model_name": "FloatProgressModel",
            "bar_style": "success",
            "max": 11,
            "_view_module": "@jupyter-widgets/controls",
            "_model_module_version": "1.5.0",
            "value": 11,
            "_view_count": null,
            "_view_module_version": "1.5.0",
            "orientation": "horizontal",
            "min": 0,
            "description_tooltip": null,
            "_model_module": "@jupyter-widgets/controls",
            "layout": "IPY_MODEL_8f59cf61424b4273aee8984686101b82"
          }
        },
        "5433e11a5dbe4dd79a3bf3b6e5d9a18c": {
          "model_module": "@jupyter-widgets/controls",
          "model_name": "HTMLModel",
          "state": {
            "_view_name": "HTMLView",
            "style": "IPY_MODEL_749fe290560545238321f9b2872e5e1e",
            "_dom_classes": [],
            "description": "",
            "_model_name": "HTMLModel",
            "placeholder": "​",
            "_view_module": "@jupyter-widgets/controls",
            "_model_module_version": "1.5.0",
            "value": " 11/11 [00:19&lt;00:00,  1.75s/it]",
            "_view_count": null,
            "_view_module_version": "1.5.0",
            "description_tooltip": null,
            "_model_module": "@jupyter-widgets/controls",
            "layout": "IPY_MODEL_647b97b3706449579090977f281d3e1a"
          }
        },
        "2ac2dd2e93b744dc8dadc1300bc8f755": {
          "model_module": "@jupyter-widgets/controls",
          "model_name": "ProgressStyleModel",
          "state": {
            "_view_name": "StyleView",
            "_model_name": "ProgressStyleModel",
            "description_width": "initial",
            "_view_module": "@jupyter-widgets/base",
            "_model_module_version": "1.5.0",
            "_view_count": null,
            "_view_module_version": "1.2.0",
            "bar_color": null,
            "_model_module": "@jupyter-widgets/controls"
          }
        },
        "8f59cf61424b4273aee8984686101b82": {
          "model_module": "@jupyter-widgets/base",
          "model_name": "LayoutModel",
          "state": {
            "_view_name": "LayoutView",
            "grid_template_rows": null,
            "right": null,
            "justify_content": null,
            "_view_module": "@jupyter-widgets/base",
            "overflow": null,
            "_model_module_version": "1.2.0",
            "_view_count": null,
            "flex_flow": null,
            "width": null,
            "min_width": null,
            "border": null,
            "align_items": null,
            "bottom": null,
            "_model_module": "@jupyter-widgets/base",
            "top": null,
            "grid_column": null,
            "overflow_y": null,
            "overflow_x": null,
            "grid_auto_flow": null,
            "grid_area": null,
            "grid_template_columns": null,
            "flex": null,
            "_model_name": "LayoutModel",
            "justify_items": null,
            "grid_row": null,
            "max_height": null,
            "align_content": null,
            "visibility": null,
            "align_self": null,
            "height": null,
            "min_height": null,
            "padding": null,
            "grid_auto_rows": null,
            "grid_gap": null,
            "max_width": null,
            "order": null,
            "_view_module_version": "1.2.0",
            "grid_template_areas": null,
            "object_position": null,
            "object_fit": null,
            "grid_auto_columns": null,
            "margin": null,
            "display": null,
            "left": null
          }
        },
        "749fe290560545238321f9b2872e5e1e": {
          "model_module": "@jupyter-widgets/controls",
          "model_name": "DescriptionStyleModel",
          "state": {
            "_view_name": "StyleView",
            "_model_name": "DescriptionStyleModel",
            "description_width": "",
            "_view_module": "@jupyter-widgets/base",
            "_model_module_version": "1.5.0",
            "_view_count": null,
            "_view_module_version": "1.2.0",
            "_model_module": "@jupyter-widgets/controls"
          }
        },
        "647b97b3706449579090977f281d3e1a": {
          "model_module": "@jupyter-widgets/base",
          "model_name": "LayoutModel",
          "state": {
            "_view_name": "LayoutView",
            "grid_template_rows": null,
            "right": null,
            "justify_content": null,
            "_view_module": "@jupyter-widgets/base",
            "overflow": null,
            "_model_module_version": "1.2.0",
            "_view_count": null,
            "flex_flow": null,
            "width": null,
            "min_width": null,
            "border": null,
            "align_items": null,
            "bottom": null,
            "_model_module": "@jupyter-widgets/base",
            "top": null,
            "grid_column": null,
            "overflow_y": null,
            "overflow_x": null,
            "grid_auto_flow": null,
            "grid_area": null,
            "grid_template_columns": null,
            "flex": null,
            "_model_name": "LayoutModel",
            "justify_items": null,
            "grid_row": null,
            "max_height": null,
            "align_content": null,
            "visibility": null,
            "align_self": null,
            "height": null,
            "min_height": null,
            "padding": null,
            "grid_auto_rows": null,
            "grid_gap": null,
            "max_width": null,
            "order": null,
            "_view_module_version": "1.2.0",
            "grid_template_areas": null,
            "object_position": null,
            "object_fit": null,
            "grid_auto_columns": null,
            "margin": null,
            "display": null,
            "left": null
          }
        },
        "7bb136430804444ba9d0a081d83a9ea5": {
          "model_module": "@jupyter-widgets/controls",
          "model_name": "HBoxModel",
          "state": {
            "_view_name": "HBoxView",
            "_dom_classes": [],
            "_model_name": "HBoxModel",
            "_view_module": "@jupyter-widgets/controls",
            "_model_module_version": "1.5.0",
            "_view_count": null,
            "_view_module_version": "1.5.0",
            "box_style": "",
            "layout": "IPY_MODEL_9b41eb62b51d485a92c64df6dc032b73",
            "_model_module": "@jupyter-widgets/controls",
            "children": [
              "IPY_MODEL_cac677cd2f824123bf29244a58ac658d",
              "IPY_MODEL_e6bdc2737e1d4961b815e785f87f6eb8"
            ]
          }
        },
        "9b41eb62b51d485a92c64df6dc032b73": {
          "model_module": "@jupyter-widgets/base",
          "model_name": "LayoutModel",
          "state": {
            "_view_name": "LayoutView",
            "grid_template_rows": null,
            "right": null,
            "justify_content": null,
            "_view_module": "@jupyter-widgets/base",
            "overflow": null,
            "_model_module_version": "1.2.0",
            "_view_count": null,
            "flex_flow": null,
            "width": null,
            "min_width": null,
            "border": null,
            "align_items": null,
            "bottom": null,
            "_model_module": "@jupyter-widgets/base",
            "top": null,
            "grid_column": null,
            "overflow_y": null,
            "overflow_x": null,
            "grid_auto_flow": null,
            "grid_area": null,
            "grid_template_columns": null,
            "flex": null,
            "_model_name": "LayoutModel",
            "justify_items": null,
            "grid_row": null,
            "max_height": null,
            "align_content": null,
            "visibility": null,
            "align_self": null,
            "height": null,
            "min_height": null,
            "padding": null,
            "grid_auto_rows": null,
            "grid_gap": null,
            "max_width": null,
            "order": null,
            "_view_module_version": "1.2.0",
            "grid_template_areas": null,
            "object_position": null,
            "object_fit": null,
            "grid_auto_columns": null,
            "margin": null,
            "display": null,
            "left": null
          }
        },
        "cac677cd2f824123bf29244a58ac658d": {
          "model_module": "@jupyter-widgets/controls",
          "model_name": "FloatProgressModel",
          "state": {
            "_view_name": "ProgressView",
            "style": "IPY_MODEL_942aeec7675c48f4ad8643b6bc7a990c",
            "_dom_classes": [],
            "description": "100%",
            "_model_name": "FloatProgressModel",
            "bar_style": "success",
            "max": 57,
            "_view_module": "@jupyter-widgets/controls",
            "_model_module_version": "1.5.0",
            "value": 57,
            "_view_count": null,
            "_view_module_version": "1.5.0",
            "orientation": "horizontal",
            "min": 0,
            "description_tooltip": null,
            "_model_module": "@jupyter-widgets/controls",
            "layout": "IPY_MODEL_ba123e0730284ef0871afd06ccbf3cf9"
          }
        },
        "e6bdc2737e1d4961b815e785f87f6eb8": {
          "model_module": "@jupyter-widgets/controls",
          "model_name": "HTMLModel",
          "state": {
            "_view_name": "HTMLView",
            "style": "IPY_MODEL_4cc3f2e28799444bbd5b7a7033cbcc22",
            "_dom_classes": [],
            "description": "",
            "_model_name": "HTMLModel",
            "placeholder": "​",
            "_view_module": "@jupyter-widgets/controls",
            "_model_module_version": "1.5.0",
            "value": " 57/57 [02:49&lt;00:00,  2.97s/it]",
            "_view_count": null,
            "_view_module_version": "1.5.0",
            "description_tooltip": null,
            "_model_module": "@jupyter-widgets/controls",
            "layout": "IPY_MODEL_59762e9a0967453294a436e4a95f490f"
          }
        },
        "942aeec7675c48f4ad8643b6bc7a990c": {
          "model_module": "@jupyter-widgets/controls",
          "model_name": "ProgressStyleModel",
          "state": {
            "_view_name": "StyleView",
            "_model_name": "ProgressStyleModel",
            "description_width": "initial",
            "_view_module": "@jupyter-widgets/base",
            "_model_module_version": "1.5.0",
            "_view_count": null,
            "_view_module_version": "1.2.0",
            "bar_color": null,
            "_model_module": "@jupyter-widgets/controls"
          }
        },
        "ba123e0730284ef0871afd06ccbf3cf9": {
          "model_module": "@jupyter-widgets/base",
          "model_name": "LayoutModel",
          "state": {
            "_view_name": "LayoutView",
            "grid_template_rows": null,
            "right": null,
            "justify_content": null,
            "_view_module": "@jupyter-widgets/base",
            "overflow": null,
            "_model_module_version": "1.2.0",
            "_view_count": null,
            "flex_flow": null,
            "width": null,
            "min_width": null,
            "border": null,
            "align_items": null,
            "bottom": null,
            "_model_module": "@jupyter-widgets/base",
            "top": null,
            "grid_column": null,
            "overflow_y": null,
            "overflow_x": null,
            "grid_auto_flow": null,
            "grid_area": null,
            "grid_template_columns": null,
            "flex": null,
            "_model_name": "LayoutModel",
            "justify_items": null,
            "grid_row": null,
            "max_height": null,
            "align_content": null,
            "visibility": null,
            "align_self": null,
            "height": null,
            "min_height": null,
            "padding": null,
            "grid_auto_rows": null,
            "grid_gap": null,
            "max_width": null,
            "order": null,
            "_view_module_version": "1.2.0",
            "grid_template_areas": null,
            "object_position": null,
            "object_fit": null,
            "grid_auto_columns": null,
            "margin": null,
            "display": null,
            "left": null
          }
        },
        "4cc3f2e28799444bbd5b7a7033cbcc22": {
          "model_module": "@jupyter-widgets/controls",
          "model_name": "DescriptionStyleModel",
          "state": {
            "_view_name": "StyleView",
            "_model_name": "DescriptionStyleModel",
            "description_width": "",
            "_view_module": "@jupyter-widgets/base",
            "_model_module_version": "1.5.0",
            "_view_count": null,
            "_view_module_version": "1.2.0",
            "_model_module": "@jupyter-widgets/controls"
          }
        },
        "59762e9a0967453294a436e4a95f490f": {
          "model_module": "@jupyter-widgets/base",
          "model_name": "LayoutModel",
          "state": {
            "_view_name": "LayoutView",
            "grid_template_rows": null,
            "right": null,
            "justify_content": null,
            "_view_module": "@jupyter-widgets/base",
            "overflow": null,
            "_model_module_version": "1.2.0",
            "_view_count": null,
            "flex_flow": null,
            "width": null,
            "min_width": null,
            "border": null,
            "align_items": null,
            "bottom": null,
            "_model_module": "@jupyter-widgets/base",
            "top": null,
            "grid_column": null,
            "overflow_y": null,
            "overflow_x": null,
            "grid_auto_flow": null,
            "grid_area": null,
            "grid_template_columns": null,
            "flex": null,
            "_model_name": "LayoutModel",
            "justify_items": null,
            "grid_row": null,
            "max_height": null,
            "align_content": null,
            "visibility": null,
            "align_self": null,
            "height": null,
            "min_height": null,
            "padding": null,
            "grid_auto_rows": null,
            "grid_gap": null,
            "max_width": null,
            "order": null,
            "_view_module_version": "1.2.0",
            "grid_template_areas": null,
            "object_position": null,
            "object_fit": null,
            "grid_auto_columns": null,
            "margin": null,
            "display": null,
            "left": null
          }
        },
        "86d2cb943e334772968bdbdd5f465f31": {
          "model_module": "@jupyter-widgets/controls",
          "model_name": "HBoxModel",
          "state": {
            "_view_name": "HBoxView",
            "_dom_classes": [],
            "_model_name": "HBoxModel",
            "_view_module": "@jupyter-widgets/controls",
            "_model_module_version": "1.5.0",
            "_view_count": null,
            "_view_module_version": "1.5.0",
            "box_style": "",
            "layout": "IPY_MODEL_0df2ae0e3e0e46e3b8330bccfe4c705e",
            "_model_module": "@jupyter-widgets/controls",
            "children": [
              "IPY_MODEL_00cf101914c64d92a80a785b129341fa",
              "IPY_MODEL_c8fc8f965c3e4238a8203e6fc93fc0ed"
            ]
          }
        },
        "0df2ae0e3e0e46e3b8330bccfe4c705e": {
          "model_module": "@jupyter-widgets/base",
          "model_name": "LayoutModel",
          "state": {
            "_view_name": "LayoutView",
            "grid_template_rows": null,
            "right": null,
            "justify_content": null,
            "_view_module": "@jupyter-widgets/base",
            "overflow": null,
            "_model_module_version": "1.2.0",
            "_view_count": null,
            "flex_flow": null,
            "width": null,
            "min_width": null,
            "border": null,
            "align_items": null,
            "bottom": null,
            "_model_module": "@jupyter-widgets/base",
            "top": null,
            "grid_column": null,
            "overflow_y": null,
            "overflow_x": null,
            "grid_auto_flow": null,
            "grid_area": null,
            "grid_template_columns": null,
            "flex": null,
            "_model_name": "LayoutModel",
            "justify_items": null,
            "grid_row": null,
            "max_height": null,
            "align_content": null,
            "visibility": null,
            "align_self": null,
            "height": null,
            "min_height": null,
            "padding": null,
            "grid_auto_rows": null,
            "grid_gap": null,
            "max_width": null,
            "order": null,
            "_view_module_version": "1.2.0",
            "grid_template_areas": null,
            "object_position": null,
            "object_fit": null,
            "grid_auto_columns": null,
            "margin": null,
            "display": null,
            "left": null
          }
        },
        "00cf101914c64d92a80a785b129341fa": {
          "model_module": "@jupyter-widgets/controls",
          "model_name": "FloatProgressModel",
          "state": {
            "_view_name": "ProgressView",
            "style": "IPY_MODEL_ea6aa686946041e29d18148008d4c34c",
            "_dom_classes": [],
            "description": "100%",
            "_model_name": "FloatProgressModel",
            "bar_style": "success",
            "max": 11,
            "_view_module": "@jupyter-widgets/controls",
            "_model_module_version": "1.5.0",
            "value": 11,
            "_view_count": null,
            "_view_module_version": "1.5.0",
            "orientation": "horizontal",
            "min": 0,
            "description_tooltip": null,
            "_model_module": "@jupyter-widgets/controls",
            "layout": "IPY_MODEL_c6545cef60cc486b9a6493366fce6877"
          }
        },
        "c8fc8f965c3e4238a8203e6fc93fc0ed": {
          "model_module": "@jupyter-widgets/controls",
          "model_name": "HTMLModel",
          "state": {
            "_view_name": "HTMLView",
            "style": "IPY_MODEL_17b3e314ef0a47f39765351d7bb8f288",
            "_dom_classes": [],
            "description": "",
            "_model_name": "HTMLModel",
            "placeholder": "​",
            "_view_module": "@jupyter-widgets/controls",
            "_model_module_version": "1.5.0",
            "value": " 11/11 [00:51&lt;00:00,  4.64s/it]",
            "_view_count": null,
            "_view_module_version": "1.5.0",
            "description_tooltip": null,
            "_model_module": "@jupyter-widgets/controls",
            "layout": "IPY_MODEL_0ab123215aa94566a6ecd1bfb8b3a133"
          }
        },
        "ea6aa686946041e29d18148008d4c34c": {
          "model_module": "@jupyter-widgets/controls",
          "model_name": "ProgressStyleModel",
          "state": {
            "_view_name": "StyleView",
            "_model_name": "ProgressStyleModel",
            "description_width": "initial",
            "_view_module": "@jupyter-widgets/base",
            "_model_module_version": "1.5.0",
            "_view_count": null,
            "_view_module_version": "1.2.0",
            "bar_color": null,
            "_model_module": "@jupyter-widgets/controls"
          }
        },
        "c6545cef60cc486b9a6493366fce6877": {
          "model_module": "@jupyter-widgets/base",
          "model_name": "LayoutModel",
          "state": {
            "_view_name": "LayoutView",
            "grid_template_rows": null,
            "right": null,
            "justify_content": null,
            "_view_module": "@jupyter-widgets/base",
            "overflow": null,
            "_model_module_version": "1.2.0",
            "_view_count": null,
            "flex_flow": null,
            "width": null,
            "min_width": null,
            "border": null,
            "align_items": null,
            "bottom": null,
            "_model_module": "@jupyter-widgets/base",
            "top": null,
            "grid_column": null,
            "overflow_y": null,
            "overflow_x": null,
            "grid_auto_flow": null,
            "grid_area": null,
            "grid_template_columns": null,
            "flex": null,
            "_model_name": "LayoutModel",
            "justify_items": null,
            "grid_row": null,
            "max_height": null,
            "align_content": null,
            "visibility": null,
            "align_self": null,
            "height": null,
            "min_height": null,
            "padding": null,
            "grid_auto_rows": null,
            "grid_gap": null,
            "max_width": null,
            "order": null,
            "_view_module_version": "1.2.0",
            "grid_template_areas": null,
            "object_position": null,
            "object_fit": null,
            "grid_auto_columns": null,
            "margin": null,
            "display": null,
            "left": null
          }
        },
        "17b3e314ef0a47f39765351d7bb8f288": {
          "model_module": "@jupyter-widgets/controls",
          "model_name": "DescriptionStyleModel",
          "state": {
            "_view_name": "StyleView",
            "_model_name": "DescriptionStyleModel",
            "description_width": "",
            "_view_module": "@jupyter-widgets/base",
            "_model_module_version": "1.5.0",
            "_view_count": null,
            "_view_module_version": "1.2.0",
            "_model_module": "@jupyter-widgets/controls"
          }
        },
        "0ab123215aa94566a6ecd1bfb8b3a133": {
          "model_module": "@jupyter-widgets/base",
          "model_name": "LayoutModel",
          "state": {
            "_view_name": "LayoutView",
            "grid_template_rows": null,
            "right": null,
            "justify_content": null,
            "_view_module": "@jupyter-widgets/base",
            "overflow": null,
            "_model_module_version": "1.2.0",
            "_view_count": null,
            "flex_flow": null,
            "width": null,
            "min_width": null,
            "border": null,
            "align_items": null,
            "bottom": null,
            "_model_module": "@jupyter-widgets/base",
            "top": null,
            "grid_column": null,
            "overflow_y": null,
            "overflow_x": null,
            "grid_auto_flow": null,
            "grid_area": null,
            "grid_template_columns": null,
            "flex": null,
            "_model_name": "LayoutModel",
            "justify_items": null,
            "grid_row": null,
            "max_height": null,
            "align_content": null,
            "visibility": null,
            "align_self": null,
            "height": null,
            "min_height": null,
            "padding": null,
            "grid_auto_rows": null,
            "grid_gap": null,
            "max_width": null,
            "order": null,
            "_view_module_version": "1.2.0",
            "grid_template_areas": null,
            "object_position": null,
            "object_fit": null,
            "grid_auto_columns": null,
            "margin": null,
            "display": null,
            "left": null
          }
        }
      }
    }
  },
  "cells": [
    {
      "cell_type": "code",
      "metadata": {
        "colab": {
          "base_uri": "https://localhost:8080/"
        },
        "id": "683PAxYZ7ATE",
        "outputId": "6e731956-3d05-4201-8020-1509b41371eb"
      },
      "source": [
        "from google.colab import drive\n",
        "drive.mount('/content/drive')"
      ],
      "execution_count": 1,
      "outputs": [
        {
          "output_type": "stream",
          "text": [
            "Mounted at /content/drive\n"
          ],
          "name": "stdout"
        }
      ]
    },
    {
      "cell_type": "code",
      "metadata": {
        "id": "bDx9vzBQUwjG"
      },
      "source": [
        "import warnings\n",
        "warnings.filterwarnings(\"ignore\")"
      ],
      "execution_count": 2,
      "outputs": []
    },
    {
      "cell_type": "code",
      "metadata": {
        "id": "0Kk_9kaAriad"
      },
      "source": [
        "import torch\n",
        "import torchvision\n",
        "import torch.nn as nn\n",
        "import torch.optim as opt\n",
        "import torch.nn.functional as F\n",
        "import torchvision.transforms as tfrm\n",
        "from torchvision.utils import make_grid\n",
        "from torch.utils.data import DataLoader, Dataset\n",
        "\n",
        "import os\n",
        "import PIL\n",
        "import pandas as pd\n",
        "from pathlib import Path\n",
        "from tqdm.notebook import tqdm\n",
        "import matplotlib.pyplot as plt\n",
        "from sklearn.model_selection import train_test_split"
      ],
      "execution_count": 3,
      "outputs": []
    },
    {
      "cell_type": "markdown",
      "metadata": {
        "id": "7IQDjs4uVYaL"
      },
      "source": [
        "# Definitions"
      ]
    },
    {
      "cell_type": "code",
      "metadata": {
        "id": "BHg2wmDlBhOA"
      },
      "source": [
        "def drive_path(path):\n",
        "  folder_path = str(Path(path).parent)\n",
        "\n",
        "  if folder_path.endswith('Whatzit'):\n",
        "    return os.path.join('/content/drive/MyDrive/Additional Datasets/Whatzit', os.path.basename(path))\n",
        "\n",
        "  if folder_path.endswith('dataset'):\n",
        "    return os.path.join('/content/drive/MyDrive/Domain Expert-Datasets/email dataset', os.path.basename(path))\n",
        "  \n",
        "  if folder_path.endswith('labeled'):\n",
        "    return os.path.join('/content/drive/MyDrive/Fellows Resources/labeled', os.path.basename(path))\n",
        "\n",
        "\n",
        "\n",
        "def change_path(row):\n",
        "  img_path_AP = row['image_path_AP']\n",
        "  img_path_ML = row['image_path_ML']\n",
        "\n",
        "  row['image_path_AP'] = drive_path(img_path_AP)\n",
        "  row['image_path_ML'] = drive_path(img_path_ML)\n",
        "\n",
        "  return row\n"
      ],
      "execution_count": 4,
      "outputs": []
    },
    {
      "cell_type": "code",
      "metadata": {
        "id": "Xvlf9d_-6g_J"
      },
      "source": [
        "class ImageDatasetFromDF(Dataset):\n",
        "  def __init__(self, root_directory, dataframe, image_label_AP, image_label_ML, labels, mapping, transforms=None):\n",
        "\n",
        "    self.df = dataframe.reset_index(drop=True)\n",
        "    self.dir = root_directory\n",
        "    self.tfrm = transforms\n",
        "\n",
        "    self.labels = labels\n",
        "    self.image_label_AP = image_label_AP\n",
        "    self.image_label_ML = image_label_ML\n",
        "\n",
        "    self.class_to_label = mapping\n",
        "\n",
        "  def __len__(self):\n",
        "    return len(self.df)\n",
        "\n",
        "  def __getitem__(self, index):\n",
        "    filename_AP = os.path.join(str(self.dir), str(self.df.loc[index, self.image_label_AP]))\n",
        "    filename_ML = os.path.join(str(self.dir), str(self.df.loc[index, self.image_label_ML]))\n",
        "\n",
        "    labels = torch.tensor(self.class_to_label[self.df.loc[index, self.labels]], dtype=torch.long)\n",
        "\n",
        "    image_AP = PIL.Image.open(filename_AP).convert('RGB')\n",
        "    image_ML = PIL.Image.open(filename_ML).convert('RGB')\n",
        "\n",
        "    if self.tfrm:\n",
        "      image_AP = self.tfrm(image_AP)\n",
        "      image_ML = self.tfrm(image_ML)\n",
        "    \n",
        "    return image_AP, image_ML, labels\n",
        "\n",
        "class ImbalancedDatasetSampler(torch.utils.data.sampler.Sampler):\n",
        "    def __init__(self, dataset, indices=None, num_samples=None, callback_get_label=None):\n",
        "                \n",
        "        # if indices is not provided, \n",
        "        # all elements in the dataset will be considered\n",
        "        self.indices = list(range(len(dataset))) \\\n",
        "            if indices is None else indices\n",
        "\n",
        "        # define custom callback\n",
        "        self.callback_get_label = callback_get_label\n",
        "\n",
        "        # if num_samples is not provided, \n",
        "        # draw `len(indices)` samples in each iteration\n",
        "        self.num_samples = len(self.indices) \\\n",
        "            if num_samples is None else num_samples\n",
        "            \n",
        "        # distribution of classes in the dataset \n",
        "        label_to_count = {}\n",
        "        for idx in self.indices:\n",
        "            label = self._get_label(dataset, idx)\n",
        "            if label in label_to_count:\n",
        "                label_to_count[label] += 1\n",
        "            else:\n",
        "                label_to_count[label] = 1\n",
        "                \n",
        "        # weight for each sample\n",
        "        weights = [1.0 / label_to_count[self._get_label(dataset, idx)]\n",
        "                   for idx in self.indices]\n",
        "        self.weights = torch.DoubleTensor(weights)\n",
        "\n",
        "    def _get_label(self, dataset, idx):\n",
        "        if self.callback_get_label:\n",
        "            return self.callback_get_label(dataset, idx)\n",
        "        elif isinstance(dataset, torchvision.datasets.MNIST):\n",
        "            return dataset.train_labels[idx].item()\n",
        "        elif isinstance(dataset, torchvision.datasets.ImageFolder):\n",
        "            return dataset.imgs[idx][1]\n",
        "        elif isinstance(dataset, torch.utils.data.Subset):\n",
        "            return dataset.dataset.imgs[idx][1]\n",
        "        else:\n",
        "            return dataset.df[\"Product\"][idx]\n",
        "                \n",
        "    def __iter__(self):\n",
        "        return (self.indices[i] for i in torch.multinomial(\n",
        "            self.weights, self.num_samples, replacement=True))\n",
        "\n",
        "    def __len__(self):\n",
        "        return self.num_samples\n",
        "\n",
        "\n",
        "def to_device(data, device):\n",
        "    if isinstance(data, (list, tuple)):\n",
        "        return [to_device(x, device) for x in data]\n",
        "    return data.to(device, non_blocking=True)\n"
      ],
      "execution_count": 5,
      "outputs": []
    },
    {
      "cell_type": "code",
      "metadata": {
        "id": "lpjgAWkxsWZE"
      },
      "source": [
        "class SiameseMultiClass(nn.Module):\n",
        "\n",
        "  results = {\n",
        "      'train': {\n",
        "          'loss': []\n",
        "      },\n",
        "      'val': {\n",
        "          'loss': [],\n",
        "          'acc': []\n",
        "      },\n",
        "  }\n",
        "\n",
        "  epoch = 0\n",
        "  history = []\n",
        "\n",
        "  def __init__(self, num_classes, record=True, verbose=True):\n",
        "    super(SiameseMultiClass, self).__init__()\n",
        "\n",
        "    self.res1 = nn.Sequential(*(list(torchvision.models.resnet101(pretrained=True, progress=False).children())[:-1]))\n",
        "    self.res2 = nn.Sequential(*(list(torchvision.models.resnet101(pretrained=True, progress=False).children())[:-1]))\n",
        "\n",
        "    self.fc = nn.Sequential(\n",
        "        nn.Dropout(0.3),\n",
        "        nn.Linear(4096, 2048),\n",
        "        nn.ReLU(),\n",
        "        nn.Linear(2048, num_classes)\n",
        "    )\n",
        "\n",
        "    self.record = record\n",
        "    self.verbose = verbose\n",
        "  \n",
        "  def forward(self, inp1, inp2):\n",
        "    out1 = self.res1(inp1)\n",
        "    out2 = self.res2(inp2)\n",
        "\n",
        "    out1 = out1.reshape(-1, out1.shape[1])\n",
        "    out2 = out2.reshape(-1, out2.shape[1])\n",
        "\n",
        "    return self.fc(torch.cat([out1, out2], dim=1))\n",
        "\n",
        "  def train_step(self, xb):\n",
        "    inp1, inp2, labels = xb \n",
        "    out = self(inp1, inp2)\n",
        "    loss = F.cross_entropy(out, labels)\n",
        "\n",
        "    self.results['train']['loss'].append(loss.cpu().item())\n",
        "    return loss\n",
        "\n",
        "  def val_step(self, xb):\n",
        "    inp1, inp2, labels = xb\n",
        "    out = self(inp1, inp2)\n",
        "    loss = F.cross_entropy(out, labels)\n",
        "    acc = self.accuracy(out, labels)\n",
        "    \n",
        "    self.results['val']['loss'].append(loss.cpu().item())\n",
        "    self.results['val']['acc'].append(acc.cpu().item())\n",
        "\n",
        "  def epoch_end(self):\n",
        "    train_loss = torch.tensor(self.results['train']['loss']).mean().item()\n",
        "    val_loss = torch.tensor(self.results['val']['loss']).mean().item()\n",
        "    val_acc = torch.tensor(self.results['val']['acc']).mean().item()\n",
        "\n",
        "    if self.record:\n",
        "      self.history.append({\n",
        "          'epoch': self.epoch,\n",
        "          'train_loss': train_loss,\n",
        "          'val_loss': val_loss,\n",
        "          'val_acc': val_acc\n",
        "      })\n",
        "    if self.verbose:\n",
        "      print(f'Epoch [{self.epoch}]: train_loss: {train_loss}, val_loss: {val_loss}, val_acc: {val_acc}')\n",
        "    \n",
        "    self.reset_results()\n",
        "    self.epoch += 1\n",
        "\n",
        "  def reset_results(self):\n",
        "    self.results = {\n",
        "        'train': {\n",
        "            'loss': []\n",
        "        },\n",
        "        'val': {\n",
        "            'loss': [],\n",
        "            'acc': []\n",
        "        },\n",
        "    }\n",
        "\n",
        "  def accuracy(self, outputs, labels):\n",
        "    _, preds = torch.max(outputs, dim=1)\n",
        "    return torch.tensor(torch.sum(preds == labels).item() / len(preds))\n"
      ],
      "execution_count": 6,
      "outputs": []
    },
    {
      "cell_type": "code",
      "metadata": {
        "id": "uHa1xW5PMy8-"
      },
      "source": [
        "def show_batch(dl):\n",
        "  for image_AP, image_ML, labels in dl:\n",
        "    image_AP = image_AP.cpu()\n",
        "    fig, ax = plt.subplots(figsize=(12,12))\n",
        "    ax.set_xticks([]); ax.set_yticks([]);\n",
        "    ax.imshow(make_grid(image_AP[:64], nrow=8).permute(1,2, 0).clamp(0,1))\n",
        "    break\n"
      ],
      "execution_count": 7,
      "outputs": []
    },
    {
      "cell_type": "markdown",
      "metadata": {
        "id": "RhOEEPEkMvFR"
      },
      "source": [
        "# Run"
      ]
    },
    {
      "cell_type": "code",
      "metadata": {
        "colab": {
          "base_uri": "https://localhost:8080/"
        },
        "id": "DsklauPfODtp",
        "outputId": "517f1c96-e8dc-42fd-a21a-2024c6b4aa2d"
      },
      "source": [
        "train_df = pd.read_csv(\"/content/drive/MyDrive/Concatenate/Merged Datasets/train.csv\").apply(change_path, axis=1)\n",
        "val_df = pd.read_csv(\"/content/drive/MyDrive/Concatenate/Merged Datasets/val.csv\").apply(change_path, axis=1)\n",
        "\n",
        "label_to_idx = {label:idx for idx, label in enumerate(list(train_df[\"Product\"].value_counts().index))}\n",
        "\n",
        "len(train_df), len(val_df)"
      ],
      "execution_count": 8,
      "outputs": [
        {
          "output_type": "execute_result",
          "data": {
            "text/plain": [
              "(1796, 344)"
            ]
          },
          "metadata": {
            "tags": []
          },
          "execution_count": 8
        }
      ]
    },
    {
      "cell_type": "code",
      "metadata": {
        "id": "A1m4XhlnMwTA"
      },
      "source": [
        "mean = (0.5071, 0.4867, 0.4408)\n",
        "std = (0.2675, 0.2565, 0.2761)\n",
        "img_size = (240, 240)\n",
        "\n",
        "transform_train = tfrm.Compose([\n",
        "    tfrm.RandomHorizontalFlip(),\n",
        "    tfrm.Resize(img_size),\n",
        "    tfrm.ToTensor(),\n",
        "    tfrm.Lambda(lambda x: x.repeat(3,1,1) if x.shape[0] == 1 else x),\n",
        "    tfrm.Normalize(mean=mean, std=std)\n",
        "  ])\n",
        "\n",
        "transform_val = tfrm.Compose([\n",
        "    tfrm.Resize(img_size),\n",
        "    tfrm.ToTensor(),\n",
        "    tfrm.Lambda(lambda x: x.repeat(3,1,1) if x.shape[0] == 1 else x),\n",
        "    tfrm.Normalize(mean=mean, std=std)\n",
        "    ])\n",
        "\n",
        "\n",
        "train_ds = ImageDatasetFromDF('', train_df, 'image_path_AP', 'image_path_ML', 'Product', label_to_idx, transform_train)\n",
        "val_ds = ImageDatasetFromDF('', val_df, 'image_path_AP', 'image_path_ML', 'Product', label_to_idx, transform_val)\n",
        "\n",
        "\n",
        "\n",
        "BATCH_SIZE = 32\n",
        "train_dl = DataLoader(train_ds, BATCH_SIZE, sampler=ImbalancedDatasetSampler(train_ds), num_workers=4)\n",
        "val_dl = DataLoader(val_ds, BATCH_SIZE, sampler=ImbalancedDatasetSampler(val_ds), num_workers=4)"
      ],
      "execution_count": 9,
      "outputs": []
    },
    {
      "cell_type": "code",
      "metadata": {
        "colab": {
          "base_uri": "https://localhost:8080/",
          "height": 370
        },
        "id": "SnPPQ8CIMqDc",
        "outputId": "f32b0b42-0e56-4b28-aee9-d854d57f9fb0"
      },
      "source": [
        "show_batch(train_dl)"
      ],
      "execution_count": 10,
      "outputs": [
        {
          "output_type": "display_data",
          "data": {
            "image/png": "[encoded data removed]",
            "text/plain": [
              "<Figure size 864x864 with 1 Axes>"
            ]
          },
          "metadata": {
            "tags": []
          }
        }
      ]
    },
    {
      "cell_type": "code",
      "metadata": {
        "id": "oqnXoixa15UA"
      },
      "source": [
        "def train(epochs, train_loader, val_loader, lr, tuning = False):\n",
        "  device = torch.device('cuda:0' if torch.cuda.is_available() else 'cpu')\n",
        "\n",
        "  model = SiameseMultiClass(len(label_to_idx))\n",
        "  model.to(device)\n",
        "\n",
        "  opt = torch.optim.Adam(model.parameters(), lr)\n",
        "  \n",
        "  for epoch in range(epochs):\n",
        "    torch.cuda.empty_cache()\n",
        "    model.train()\n",
        "\n",
        "    for xb in tqdm(train_loader, total=len(train_loader)):\n",
        "      xb = to_device(xb, device)\n",
        "      loss = model.train_step(xb)\n",
        "\n",
        "      loss.backward()\n",
        "\n",
        "      opt.step()\n",
        "      opt.zero_grad()\n",
        "\n",
        "\n",
        "    model.eval()\n",
        "\n",
        "    for xb in tqdm(val_loader, total=len(val_loader)):\n",
        "      xb = to_device(xb, device)\n",
        "      model.val_step(xb)\n",
        "\n",
        "    model.epoch_end()\n",
        "\n",
        "  if tuning:\n",
        "    return model.history[-1]['val_loss']\n",
        "\n",
        "  return model"
      ],
      "execution_count": 11,
      "outputs": []
    },
    {
      "cell_type": "code",
      "metadata": {
        "colab": {
          "base_uri": "https://localhost:8080/",
          "height": 589,
          "referenced_widgets": [
            "4f5fb088cc484d318a45a0542eea4692",
            "cf9c89c2dcae422a8d9f506478ecc9f4",
            "c06bab6f990b4ff189da56206e680ae5",
            "0afb7cc10fd0447b96defe70524f0334",
            "ab199120ebb94773ac1f758cd3eed713",
            "a61c636107a746d78147c81d7598a545",
            "fa43df39d70d4365b2302431ef9d6b77",
            "7069fbdc99b841b2ac76d9d116de56cf",
            "60ec0745e3eb4ff38141f4aeddf22d6f",
            "f7acfbb1c34244f2b05a59a042346500",
            "f5cebb3b09b54aa2987048d331b2eb20",
            "3f4226af834b4d5c8623c0382683b3e3",
            "0b460697b39b4c9a82fb948638d6f3fb",
            "a168b5aaf81f4114abab59cf92d1f21f",
            "f75cfa7a5c604b64ad323a18556a8668",
            "fedf36d33665453a8f65bf89f04114a2",
            "7f90055d57624e24ab5d726ee95de673",
            "dd723b9533c84303a90e02ee927a254b",
            "f83bf3ffae3a4bb8bc4ba731c889d287",
            "1fcab2ec2fe146c89d55a73385cca1eb",
            "951b306d3828488ba33aac5c53a51f1e",
            "ed6dc18d2d604aeea3f1b8e44ca67d36",
            "600f6809c00e41d8abdf7ea6f7b0ce13",
            "eb3c60d949f24b8c80734e79eff9fb81",
            "c5aeed9467074ae7b9e05eb51af6bd53",
            "400bd4f697d248ecb021400160301c5a",
            "57874ac190864293bae16514b77947a8",
            "a30ef3162c9944e79d621a86b397d42b",
            "389140f1744c47b2ab14ced38611cbb5",
            "081cdfbd6b2847568bdfa3fa354ed439",
            "3066e5e5ecc34e5ca6e09313460ec7fd",
            "a3f9cc5e81fd456c86c245408207229a",
            "48473393620441f8b8c09dc37b0bf9ce",
            "c10a94272cfb4beeb14531be87a2ed4a",
            "8c05cc821ae949708bfe73690dfc3307",
            "ca6e47d6f38248c386ff80af80771c45",
            "473e605a93c649f29977ca68b7444c16",
            "be59d55427cf4f3593f266129cd917b1",
            "a49a2475e7b74186abbc3e60ec866b66",
            "ebf37bb958f5446c97ac15bf223250cd",
            "fc04708eda864d9186d68d96a8c51a3f",
            "55f17b7730bd432f836a037d6b539c64",
            "f67967019d584efabc48cd49df66ccbe",
            "465129b49a774c309466068180c9b182",
            "927e0697be7141eea9a83222c40b2065",
            "f8568795cfa14a608ce817b21abeb6f2",
            "90730739ec2749c1af0d2745d53fc30c",
            "6f6198f5680e4b0aaf24a2c5648decf5",
            "caf4542a7a6a49d88bad5b922af1bd05",
            "681333d994be4a0d8cbbf6e2d8979a0d",
            "05339a679d2146eeb282672f00b8d0c5",
            "24705dbf24214999b360b786ae21607d",
            "1ea035c7d6814e538b12bc5a6463d891",
            "7253ec50dc974e6dbf5f8dfb099bea00",
            "33ff701fd7df401abffd0078f5e7da33",
            "9f6942c178ea422c8d03bfe6ed00bfe2",
            "a5aff4c9b00a43e0992fc8e9851bbf9a",
            "b1a7ee76b1bd416084014c64b38b16f5",
            "0513309e4e914c5faefe3937480329b0",
            "5433e11a5dbe4dd79a3bf3b6e5d9a18c",
            "2ac2dd2e93b744dc8dadc1300bc8f755",
            "8f59cf61424b4273aee8984686101b82",
            "749fe290560545238321f9b2872e5e1e",
            "647b97b3706449579090977f281d3e1a",
            "7bb136430804444ba9d0a081d83a9ea5",
            "9b41eb62b51d485a92c64df6dc032b73",
            "cac677cd2f824123bf29244a58ac658d",
            "e6bdc2737e1d4961b815e785f87f6eb8",
            "942aeec7675c48f4ad8643b6bc7a990c",
            "ba123e0730284ef0871afd06ccbf3cf9",
            "4cc3f2e28799444bbd5b7a7033cbcc22",
            "59762e9a0967453294a436e4a95f490f",
            "86d2cb943e334772968bdbdd5f465f31",
            "0df2ae0e3e0e46e3b8330bccfe4c705e",
            "00cf101914c64d92a80a785b129341fa",
            "c8fc8f965c3e4238a8203e6fc93fc0ed",
            "ea6aa686946041e29d18148008d4c34c",
            "c6545cef60cc486b9a6493366fce6877",
            "17b3e314ef0a47f39765351d7bb8f288",
            "0ab123215aa94566a6ecd1bfb8b3a133"
          ]
        },
        "id": "53rpJzLH6MU_",
        "outputId": "a6cea722-8078-4c1f-93ed-0a4f292914a3"
      },
      "source": [
        "lr = 2e-4\n",
        "model = train(5, train_dl, val_dl, lr)"
      ],
      "execution_count": 43,
      "outputs": [
        {
          "output_type": "display_data",
          "data": {
            "application/vnd.jupyter.widget-view+json": {
              "model_id": "4f5fb088cc484d318a45a0542eea4692",
              "version_minor": 0,
              "version_major": 2
            },
            "text/plain": [
              "HBox(children=(FloatProgress(value=0.0, max=57.0), HTML(value='')))"
            ]
          },
          "metadata": {
            "tags": []
          }
        },
        {
          "output_type": "stream",
          "text": [
            "\n"
          ],
          "name": "stdout"
        },
        {
          "output_type": "display_data",
          "data": {
            "application/vnd.jupyter.widget-view+json": {
              "model_id": "60ec0745e3eb4ff38141f4aeddf22d6f",
              "version_minor": 0,
              "version_major": 2
            },
            "text/plain": [
              "HBox(children=(FloatProgress(value=0.0, max=11.0), HTML(value='')))"
            ]
          },
          "metadata": {
            "tags": []
          }
        },
        {
          "output_type": "stream",
          "text": [
            "\n",
            "Epoch [0]: train_loss: 0.39085426926612854, val_loss: 4.143382549285889, val_acc: 0.2904829680919647\n"
          ],
          "name": "stdout"
        },
        {
          "output_type": "display_data",
          "data": {
            "application/vnd.jupyter.widget-view+json": {
              "model_id": "7f90055d57624e24ab5d726ee95de673",
              "version_minor": 0,
              "version_major": 2
            },
            "text/plain": [
              "HBox(children=(FloatProgress(value=0.0, max=57.0), HTML(value='')))"
            ]
          },
          "metadata": {
            "tags": []
          }
        },
        {
          "output_type": "stream",
          "text": [
            "\n"
          ],
          "name": "stdout"
        },
        {
          "output_type": "display_data",
          "data": {
            "application/vnd.jupyter.widget-view+json": {
              "model_id": "c5aeed9467074ae7b9e05eb51af6bd53",
              "version_minor": 0,
              "version_major": 2
            },
            "text/plain": [
              "HBox(children=(FloatProgress(value=0.0, max=11.0), HTML(value='')))"
            ]
          },
          "metadata": {
            "tags": []
          }
        },
        {
          "output_type": "stream",
          "text": [
            "\n",
            "Epoch [1]: train_loss: 0.08021840453147888, val_loss: 3.7010445594787598, val_acc: 0.35132578015327454\n"
          ],
          "name": "stdout"
        },
        {
          "output_type": "display_data",
          "data": {
            "application/vnd.jupyter.widget-view+json": {
              "model_id": "48473393620441f8b8c09dc37b0bf9ce",
              "version_minor": 0,
              "version_major": 2
            },
            "text/plain": [
              "HBox(children=(FloatProgress(value=0.0, max=57.0), HTML(value='')))"
            ]
          },
          "metadata": {
            "tags": []
          }
        },
        {
          "output_type": "stream",
          "text": [
            "\n"
          ],
          "name": "stdout"
        },
        {
          "output_type": "display_data",
          "data": {
            "application/vnd.jupyter.widget-view+json": {
              "model_id": "fc04708eda864d9186d68d96a8c51a3f",
              "version_minor": 0,
              "version_major": 2
            },
            "text/plain": [
              "HBox(children=(FloatProgress(value=0.0, max=11.0), HTML(value='')))"
            ]
          },
          "metadata": {
            "tags": []
          }
        },
        {
          "output_type": "stream",
          "text": [
            "\n",
            "Epoch [2]: train_loss: 0.06301364302635193, val_loss: 6.311807632446289, val_acc: 0.3125\n"
          ],
          "name": "stdout"
        },
        {
          "output_type": "display_data",
          "data": {
            "application/vnd.jupyter.widget-view+json": {
              "model_id": "caf4542a7a6a49d88bad5b922af1bd05",
              "version_minor": 0,
              "version_major": 2
            },
            "text/plain": [
              "HBox(children=(FloatProgress(value=0.0, max=57.0), HTML(value='')))"
            ]
          },
          "metadata": {
            "tags": []
          }
        },
        {
          "output_type": "stream",
          "text": [
            "\n"
          ],
          "name": "stdout"
        },
        {
          "output_type": "display_data",
          "data": {
            "application/vnd.jupyter.widget-view+json": {
              "model_id": "a5aff4c9b00a43e0992fc8e9851bbf9a",
              "version_minor": 0,
              "version_major": 2
            },
            "text/plain": [
              "HBox(children=(FloatProgress(value=0.0, max=11.0), HTML(value='')))"
            ]
          },
          "metadata": {
            "tags": []
          }
        },
        {
          "output_type": "stream",
          "text": [
            "\n",
            "Epoch [3]: train_loss: 0.19457833468914032, val_loss: 5.494204521179199, val_acc: 0.2708333134651184\n"
          ],
          "name": "stdout"
        },
        {
          "output_type": "display_data",
          "data": {
            "application/vnd.jupyter.widget-view+json": {
              "model_id": "7bb136430804444ba9d0a081d83a9ea5",
              "version_minor": 0,
              "version_major": 2
            },
            "text/plain": [
              "HBox(children=(FloatProgress(value=0.0, max=57.0), HTML(value='')))"
            ]
          },
          "metadata": {
            "tags": []
          }
        },
        {
          "output_type": "stream",
          "text": [
            "\n"
          ],
          "name": "stdout"
        },
        {
          "output_type": "display_data",
          "data": {
            "application/vnd.jupyter.widget-view+json": {
              "model_id": "86d2cb943e334772968bdbdd5f465f31",
              "version_minor": 0,
              "version_major": 2
            },
            "text/plain": [
              "HBox(children=(FloatProgress(value=0.0, max=11.0), HTML(value='')))"
            ]
          },
          "metadata": {
            "tags": []
          }
        },
        {
          "output_type": "stream",
          "text": [
            "\n",
            "Epoch [4]: train_loss: 0.1531725376844406, val_loss: 3.6271188259124756, val_acc: 0.47632578015327454\n"
          ],
          "name": "stdout"
        }
      ]
    },
    {
      "cell_type": "markdown",
      "metadata": {
        "id": "eIq3Vg5KDYSX"
      },
      "source": [
        "# Results"
      ]
    },
    {
      "cell_type": "code",
      "metadata": {
        "id": "G5YkvJhpWd9g"
      },
      "source": [
        "@torch.no_grad()\n",
        "def predict(model, img1, img2):\n",
        "\n",
        "  # hook\n",
        "  activation = {}\n",
        "  def get_activation(name):\n",
        "    def hook(model, input, output):\n",
        "      output = output.reshape(output.size(0), -1)\n",
        "      activation[name] = output.cpu().detach()\n",
        "    return hook\n",
        "\n",
        "  model.fc[1].register_forward_hook(get_activation('linear'))\n",
        "\n",
        "  model.eval()\n",
        "  device = torch.device('cuda:0' if torch.cuda.is_available() else 'cpu')\n",
        "\n",
        "  img1, img2 = to_device([img1, img2], device)\n",
        "  output = model(img1, img2)\n",
        "\n",
        "  _, preds = torch.max(output, dim=1)\n",
        "  return preds.cpu().detach(), activation['linear']\n"
      ],
      "execution_count": 44,
      "outputs": []
    },
    {
      "cell_type": "code",
      "metadata": {
        "id": "jBS5DbEE4SLN"
      },
      "source": [
        "!pip install --quiet plotly-express\n",
        "\n",
        "import numpy as np\n",
        "import seaborn as sns\n",
        "import plotly_express as px\n",
        "from sklearn.manifold import TSNE\n",
        "from sklearn.metrics import confusion_matrix"
      ],
      "execution_count": 45,
      "outputs": []
    },
    {
      "cell_type": "code",
      "metadata": {
        "colab": {
          "base_uri": "https://localhost:8080/"
        },
        "id": "65qWNaarXawa",
        "outputId": "dc2a729a-8715-4857-c731-e6931bff10e5"
      },
      "source": [
        "labels = []\n",
        "preds = []\n",
        "manifolds = []\n",
        "\n",
        "for xb in val_dl:\n",
        "  img1, img2, label = xb\n",
        "  pred, manifold = predict(model, img1, img2)\n",
        "  preds.append(pred.reshape(-1, ))\n",
        "  labels.append(label.reshape(-1, ))\n",
        "  manifolds.append(manifold)\n",
        "\n",
        "labels = torch.stack(labels[:-1]).reshape(-1,)\n",
        "preds = torch.stack(preds[:-1]).reshape(-1,)\n",
        "manifolds = torch.stack(manifolds[:-1]).reshape(-1, 2048)\n",
        "\n",
        "acc = torch.tensor(torch.sum(preds == labels).item() / len(preds))\n",
        "\n",
        "print(\"Val accuracy: \", acc.detach().item())"
      ],
      "execution_count": 46,
      "outputs": [
        {
          "output_type": "stream",
          "text": [
            "Val accuracy:  0.44999998807907104\n"
          ],
          "name": "stdout"
        }
      ]
    },
    {
      "cell_type": "code",
      "metadata": {
        "colab": {
          "base_uri": "https://localhost:8080/",
          "height": 612
        },
        "id": "YtLR3cEH4Ffu",
        "outputId": "b42781c5-fd32-4578-f737-842a17f4c7d5"
      },
      "source": [
        "cm = confusion_matrix(labels.numpy(), preds.numpy())\n",
        "products = list(label_to_idx.keys())\n",
        "plt.figure(figsize=(15,10))\n",
        "sns.heatmap(cm, cmap='coolwarm', vmin=-100, vmax=800, annot=True, annot_kws={'size':16}, xticklabels=products, yticklabels=products)"
      ],
      "execution_count": 47,
      "outputs": [
        {
          "output_type": "execute_result",
          "data": {
            "text/plain": [
              "<matplotlib.axes._subplots.AxesSubplot at 0x7f4e63b3b450>"
            ]
          },
          "metadata": {
            "tags": []
          },
          "execution_count": 47
        },
        {
          "output_type": "display_data",
          "data": {
            "image/png": "[encoded data removed]",
            "text/plain": [
              "<Figure size 1080x720 with 2 Axes>"
            ]
          },
          "metadata": {
            "tags": [],
            "needs_background": "light"
          }
        }
      ]
    },
    {
      "cell_type": "code",
      "metadata": {
        "id": "6UDgr8ILDDSF"
      },
      "source": [
        "embeddings = TSNE(n_components=3).fit_transform(manifolds)\n",
        "embeddings_label = np.concatenate([embeddings, labels.reshape(-1, 1).numpy()], axis=1)\n",
        "embeddings_df = pd.DataFrame(embeddings_label, columns=[\"x\", \"y\", \"z\", \"label\"])\n",
        "embeddings_df['label'] = embeddings_df['label'].map({idx: label for label, idx in label_to_idx.items()})"
      ],
      "execution_count": 48,
      "outputs": []
    },
    {
      "cell_type": "code",
      "metadata": {
        "colab": {
          "base_uri": "https://localhost:8080/",
          "height": 542
        },
        "id": "ft16aeHtDf1v",
        "outputId": "28ae21c9-e7fe-44e5-9a76-b9726cd2418f"
      },
      "source": [
        "px.scatter_3d(embeddings_df, x='x', y='y', z='z', \n",
        "                    color='label')"
      ],
      "execution_count": 49,
      "outputs": [
        {
          "output_type": "display_data",
          "data": {
            "text/html": [
              "<html>\n",
              "<head><meta charset=\"utf-8\" /></head>\n",
              "<body>\n",
              "    <div>\n",
              "            <script src=\"https://cdnjs.cloudflare.com/ajax/libs/mathjax/2.7.5/MathJax.js?config=TeX-AMS-MML_SVG\"></script><script type=\"text/javascript\">if (window.MathJax) {MathJax.Hub.Config({SVG: {font: \"STIX-Web\"}});}</script>\n",
              "                <script type=\"text/javascript\">window.PlotlyConfig = {MathJaxConfig: 'local'};</script>\n",
              "        <script src=\"https://cdn.plot.ly/plotly-latest.min.js\"></script>    \n",
              "            <div id=\"e4744fe9-f3c2-44ad-8567-0f09f00d6637\" class=\"plotly-graph-div\" style=\"height:525px; width:100%;\"></div>\n",
              "            <script type=\"text/javascript\">\n",
              "                \n",
              "                    window.PLOTLYENV=window.PLOTLYENV || {};\n",
              "                    \n",
              "                if (document.getElementById(\"e4744fe9-f3c2-44ad-8567-0f09f00d6637\")) {\n",
              "                    Plotly.newPlot(\n",
              "                        'e4744fe9-f3c2-44ad-8567-0f09f00d6637',\n",
              "                        [{\"hoverlabel\": {\"namelength\": 0}, \"hovertemplate\": \"label=Denali<br>x=%{x}<br>y=%{y}<br>z=%{z}\", \"legendgroup\": \"label=Denali\", \"marker\": {\"color\": \"#636efa\", \"symbol\": \"circle\"}, \"mode\": \"markers\", \"name\": \"label=Denali\", \"scene\": \"scene\", \"showlegend\": true, \"type\": \"scatter3d\", \"x\": [-85.66163635253906, -79.60041046142578, -114.28743743896484, -107.15135955810547, -57.04340744018555, -71.3629150390625, 3.138997793197632, -88.96141815185547, -84.59356689453125, -57.58726501464844, -110.74506378173828, -85.41732788085938, -46.05522537231445, -73.84939575195312, -112.49897003173828, 91.31430053710938, -86.3097152709961, 96.2386703491211, -58.390594482421875, -103.41020965576172, -64.34915924072266, -69.42515563964844, -54.96007537841797, -78.81610107421875, -65.5862045288086, -76.49273681640625, -86.55474090576172, -104.4418716430664, -53.175872802734375, -55.877586364746094, -101.00507354736328], \"y\": [22.32023048400879, 63.115966796875, 18.44078254699707, 56.18630599975586, 14.109487533569336, 33.09138488769531, 73.746337890625, -13.537008285522461, 15.664937973022461, 68.30265808105469, 8.832731246948242, 7.996593475341797, 49.382965087890625, 52.664737701416016, 27.82027816772461, -34.93706130981445, 70.69712829589844, 65.74742889404297, 43.00216293334961, 44.87912368774414, 1.2307581901550293, -6.371291160583496, 26.590471267700195, 64.26752471923828, -42.879310607910156, 42.84963607788086, 33.71306610107422, -4.29386043548584, 112.82798767089844, 23.22788429260254, 44.52360534667969], \"z\": [112.96808624267578, 55.95137023925781, 50.693965911865234, 70.30648803710938, 57.44797134399414, 37.87710952758789, 112.70684814453125, 97.72421264648438, 84.29476165771484, 78.69751739501953, 100.86669921875, 51.79132843017578, 98.45758056640625, 114.33401489257812, 78.3403549194336, -50.198387145996094, 88.36956787109375, 74.10432434082031, 63.58447265625, 101.0155029296875, 104.19707489013672, 74.19750213623047, 116.9787368774414, -114.62189483642578, -106.95358276367188, 87.57884979248047, 63.946632385253906, 71.52874755859375, -111.51557159423828, 85.59652709960938, 41.380706787109375]}, {\"hoverlabel\": {\"namelength\": 0}, \"hovertemplate\": \"label=Isola<br>x=%{x}<br>y=%{y}<br>z=%{z}\", \"legendgroup\": \"label=Isola\", \"marker\": {\"color\": \"#EF553B\", \"symbol\": \"circle\"}, \"mode\": \"markers\", \"name\": \"label=Isola\", \"scene\": \"scene\", \"showlegend\": true, \"type\": \"scatter3d\", \"x\": [77.89942169189453, 77.14940643310547, -19.388761520385742, 107.20603942871094, 111.39767456054688, 88.61856079101562, 83.38953399658203, 59.75140380859375, -94.17061614990234, 71.70640563964844, 90.62751007080078, 79.4188003540039, 59.514949798583984, 100.92718505859375, -0.8070048093795776, 101.23505401611328, -98.74461364746094, 56.830841064453125, -105.12915802001953, 57.12120819091797, 113.71984100341797, 52.04398727416992, -80.18788146972656, 53.026580810546875, -109.53759765625, 80.16197204589844, 83.49175262451172, 90.7499008178711, 108.59137725830078, 78.35177612304688, 72.8842544555664], \"y\": [-35.78565979003906, -11.175743103027344, 134.48922729492188, -2.2576746940612793, 1.4931484460830688, -13.066389083862305, -22.610614776611328, -46.676719665527344, -6.679776668548584, -59.289276123046875, -59.24089431762695, 13.528633117675781, -6.603947639465332, -31.99848175048828, -87.50503540039062, -50.6668586730957, 85.55765533447266, -15.14883804321289, 49.609493255615234, -55.20767593383789, -27.19610595703125, -26.262937545776367, 44.89146423339844, -34.3818359375, 59.663612365722656, -30.73636245727539, -0.0952538549900055, -53.22065734863281, -25.153995513916016, -18.37506103515625, -43.91313171386719], \"z\": [23.741674423217773, 7.227269649505615, -58.1329460144043, 11.774772644042969, 44.67307662963867, 32.90187454223633, 80.44731903076172, 67.64417266845703, -98.08769989013672, 42.40873336791992, 14.302484512329102, 28.83563995361328, 35.95362091064453, 3.7311747074127197, 27.369840621948242, 41.28657531738281, -10.550617218017578, 63.98527908325195, -27.330236434936523, 14.728562355041504, 30.34743309020996, 10.78418254852295, -1.4111205339431763, 39.55512237548828, -58.57966613769531, 51.502166748046875, 58.818214416503906, 69.56049346923828, 61.175376892089844, -19.27104949951172, -6.4772562980651855]}, {\"hoverlabel\": {\"namelength\": 0}, \"hovertemplate\": \"label=Legacy<br>x=%{x}<br>y=%{y}<br>z=%{z}\", \"legendgroup\": \"label=Legacy\", \"marker\": {\"color\": \"#00cc96\", \"symbol\": \"circle\"}, \"mode\": \"markers\", \"name\": \"label=Legacy\", \"scene\": \"scene\", \"showlegend\": true, \"type\": \"scatter3d\", \"x\": [-26.45081329345703, -6.899327754974365, -10.801187515258789, 29.564504623413086, -84.10246276855469, -43.70362091064453, 3.1523056030273438, 6.148836612701416, -16.036569595336914, -10.248440742492676, 4.621910572052002, -48.36997985839844, 14.040266036987305, 27.464778900146484, -20.92473602294922, -15.378016471862793, -14.65238094329834, -109.1725845336914, -6.866970062255859, -8.208282470703125, -49.00914001464844, 5.766979217529297, -18.59209442138672, 22.443809509277344, -17.54568862915039, -15.452892303466797, -24.542810440063477, 1.8360666036605835, -44.18254852294922], \"y\": [28.69795036315918, -33.19820785522461, 102.99210357666016, 8.057488441467285, 24.37186622619629, 45.58599853515625, 97.9188003540039, 51.88783645629883, 36.773956298828125, 84.15284729003906, 28.742538452148438, 74.6080551147461, -5.092885971069336, 40.68838119506836, 75.65782165527344, 47.40817642211914, 95.27384948730469, -25.201526641845703, 76.54360961914062, 59.124183654785156, 24.87202262878418, -19.839174270629883, -2.3133273124694824, 103.95323181152344, 54.99210739135742, 59.8792724609375, 38.64104461669922, 87.4156265258789, 70.37686920166016], \"z\": [41.71017837524414, -14.37954044342041, -30.89363670349121, -49.531349182128906, -65.62820434570312, -7.518116474151611, -17.705577850341797, -35.123191833496094, 13.202149391174316, -59.53994369506836, -16.851652145385742, -24.684844970703125, -23.509197235107422, -97.532470703125, -0.5887348055839539, -14.997902870178223, 74.69322204589844, 31.964340209960938, -26.282060623168945, 69.55890655517578, -42.65510559082031, -41.91459274291992, -7.423332691192627, -51.41809844970703, -75.63530731201172, -40.792083740234375, 65.33177947998047, 77.07888793945312, -60.43181610107422]}, {\"hoverlabel\": {\"namelength\": 0}, \"hovertemplate\": \"label=Savannah<br>x=%{x}<br>y=%{y}<br>z=%{z}\", \"legendgroup\": \"label=Savannah\", \"marker\": {\"color\": \"#ab63fa\", \"symbol\": \"circle\"}, \"mode\": \"markers\", \"name\": \"label=Savannah\", \"scene\": \"scene\", \"showlegend\": true, \"type\": \"scatter3d\", \"x\": [50.456581115722656, 72.37379455566406, 130.01394653320312, 94.59762573242188, 120.73877716064453, 77.92919158935547, -27.793231964111328, 77.90380859375, 85.06591796875, 98.11661529541016, -1.4668651819229126, 89.68000030517578, 60.91098403930664, 48.349422454833984, 81.55457305908203, 116.92418670654297, 111.8358383178711, 88.8187484741211, 87.15226745605469, 83.13383483886719, 98.62006378173828, 72.24146270751953, 54.077598571777344, 65.62956237792969, 111.83480072021484, 101.41920471191406, -57.874229431152344, 83.57416534423828, 64.68032836914062, 69.05223846435547, 50.50641632080078, 97.4131851196289, 43.07240676879883, 114.05774688720703], \"y\": [83.83794403076172, 101.98649597167969, 74.76432037353516, 77.58120727539062, 86.20406341552734, 61.78406524658203, -127.81256866455078, 67.47573852539062, 33.95208740234375, 111.21865844726562, -143.46121215820312, 44.759605407714844, 56.87412643432617, 73.30584716796875, 37.09294128417969, 54.52238082885742, 77.50069427490234, 62.54667663574219, 87.56505584716797, 89.05432891845703, 45.43324661254883, 92.74043273925781, 113.18252563476562, 107.97737884521484, 101.95089721679688, 76.64617919921875, -127.0392074584961, 120.19737243652344, 69.48114013671875, 64.12355041503906, 85.95280456542969, 105.30855560302734, 100.8585433959961, 47.6664924621582], \"z\": [29.154569625854492, 19.605648040771484, -19.676076889038086, 22.411762237548828, 10.156553268432617, -73.26605987548828, 61.0399169921875, -4.983654975891113, -83.80538177490234, -45.73370361328125, 42.8837776184082, 4.392743110656738, -24.568429946899414, -4.319412708282471, -23.66872787475586, 2.801623582839966, -46.11931610107422, -33.54385757446289, -62.18443298339844, -31.92386817932129, -55.13058853149414, -7.83286714553833, -17.98200035095215, -47.08232116699219, -20.968454360961914, -11.910345077514648, -9.96117115020752, -16.62914276123047, -49.638702392578125, 20.423992156982422, -31.15160369873047, 5.767305850982666, 5.202110767364502, -27.68306541442871]}, {\"hoverlabel\": {\"namelength\": 0}, \"hovertemplate\": \"label=Reline<br>x=%{x}<br>y=%{y}<br>z=%{z}\", \"legendgroup\": \"label=Reline\", \"marker\": {\"color\": \"#FFA15A\", \"symbol\": \"circle\"}, \"mode\": \"markers\", \"name\": \"label=Reline\", \"scene\": \"scene\", \"showlegend\": true, \"type\": \"scatter3d\", \"x\": [91.1356201171875, 30.849756240844727, -101.06568908691406, 11.384535789489746, -121.95556640625, -48.46360778808594, -116.26154327392578, 28.932924270629883, 10.908653259277344, -1.511600375175476, -119.89236450195312, -12.574517250061035, -22.1207218170166, 25.28963851928711, -22.70317268371582, 32.03673553466797, 7.499727249145508, 16.056819915771484, 2.5648930072784424, 5.755078315734863, -17.37359046936035, -47.88488006591797, 24.533767700195312, -60.11406707763672, 21.025955200195312, -28.255062103271484, -116.4649887084961, -29.797222137451172], \"y\": [39.477447509765625, 43.89070510864258, 6.094263076782227, -22.53740692138672, 5.904692649841309, 52.35768508911133, 5.928712844848633, 68.62712860107422, 145.03741455078125, 40.908321380615234, -14.284835815429688, -30.0479736328125, -1.0076526403427124, -22.125774383544922, -28.993602752685547, 37.169837951660156, -41.380348205566406, 53.28816604614258, -11.286994934082031, -31.047719955444336, -24.66281509399414, 72.3609619140625, -79.73675537109375, 42.8834342956543, 1.4525023698806763, -47.1988639831543, -14.24412727355957, -60.635398864746094], \"z\": [38.08629608154297, 13.233624458312988, -16.858863830566406, -112.0230941772461, -9.941422462463379, -95.85517120361328, -36.836036682128906, -73.92515563964844, -15.740301132202148, 116.99764251708984, -25.867082595825195, -105.80663299560547, -101.48675537109375, -88.98368835449219, 130.47528076171875, -23.097349166870117, -94.37702941894531, -65.32136535644531, -89.43870544433594, -69.44572448730469, -81.33259582519531, -91.93347930908203, 118.14271545410156, -69.32600402832031, 23.207176208496094, 104.33236694335938, -55.4312629699707, 117.676025390625]}, {\"hoverlabel\": {\"namelength\": 0}, \"hovertemplate\": \"label=M8-10<br>x=%{x}<br>y=%{y}<br>z=%{z}\", \"legendgroup\": \"label=M8-10\", \"marker\": {\"color\": \"#19d3f3\", \"symbol\": \"circle\"}, \"mode\": \"markers\", \"name\": \"label=M8-10\", \"scene\": \"scene\", \"showlegend\": true, \"type\": \"scatter3d\", \"x\": [-61.74961853027344, -58.99227523803711, -89.24506378173828, -45.51665496826172, -53.37940979003906, -67.01069641113281, -70.5492935180664, -49.3553352355957, -66.15782928466797, -63.37385177612305, -93.67958068847656, -120.99132537841797, -31.069353103637695, -107.95427703857422, -87.2087631225586, 7.739536762237549, -63.892578125, -105.73177337646484, -45.76081848144531, 87.73371887207031, -69.2771987915039, -107.232666015625, -82.93624877929688, -122.89515686035156, -48.52183532714844, -83.13560485839844, -83.5781478881836, -38.022918701171875, -71.68462371826172, 13.877745628356934, 11.335807800292969, -80.68632507324219, -104.18341064453125], \"y\": [-58.82378005981445, -7.597039222717285, -50.43874740600586, -64.07152557373047, -12.274126052856445, -39.89580535888672, -25.222415924072266, -37.47604751586914, 2.4559311866760254, -37.49372863769531, -24.358448028564453, -70.67737579345703, -68.05732727050781, -40.14826202392578, -47.12095642089844, -17.711349487304688, -77.78507232666016, -33.79314041137695, -85.90924835205078, -72.28115844726562, -81.12528228759766, -73.62469482421875, -54.36936950683594, -88.61674499511719, -31.591032028198242, -29.82805824279785, -5.174339771270752, -63.51919174194336, -14.21591567993164, -42.35542297363281, 0.7827079892158508, -21.132169723510742, -89.51780700683594], \"z\": [7.622916221618652, 17.74968147277832, -31.422405242919922, 24.030925750732422, -16.933202743530273, -49.11872482299805, 26.78129005432129, -20.251907348632812, -15.540045738220215, 58.353668212890625, -35.61125946044922, -15.64311408996582, -114.77701568603516, -45.888648986816406, -5.180113792419434, 95.35650634765625, -12.79440689086914, -4.736572265625, 8.771944999694824, -51.84189987182617, 16.870267868041992, 6.324923515319824, -63.6679573059082, 3.1834959983825684, 8.154303550720215, -67.63888549804688, 15.179287910461426, -8.217353820800781, -47.03398132324219, 106.53655242919922, 131.6061248779297, -6.338686943054199, -9.318889617919922]}, {\"hoverlabel\": {\"namelength\": 0}, \"hovertemplate\": \"label=Viper<br>x=%{x}<br>y=%{y}<br>z=%{z}\", \"legendgroup\": \"label=Viper\", \"marker\": {\"color\": \"#FF6692\", \"symbol\": \"circle\"}, \"mode\": \"markers\", \"name\": \"label=Viper\", \"scene\": \"scene\", \"showlegend\": true, \"type\": \"scatter3d\", \"x\": [-18.881568908691406, -38.12986755371094, -30.09077262878418, 5.495768070220947, 19.120006561279297, -15.427434921264648, -23.009502410888672, -39.80086135864258, 12.235431671142578, 32.449684143066406, 50.88504409790039, -33.25404357910156, -2.6810145378112793, -31.98508071899414, -20.44192886352539, -26.8209171295166, -57.20363235473633, -29.26963233947754, 38.397674560546875, -59.48685073852539, 4.578239917755127, -4.6997504234313965, -24.918004989624023, -31.998727798461914, 24.90286636352539, 15.85512924194336, 34.11503982543945, -45.90869140625, -3.9711709022521973, -49.917362213134766, -20.318294525146484, 24.64408302307129, 25.958843231201172, 13.92490005493164, -19.5496768951416, 36.36159896850586, 48.4963493347168, -56.859195709228516, 98.83255767822266], \"y\": [17.76204490661621, 17.719572067260742, 96.55821990966797, -130.05418395996094, -60.208091735839844, 29.442853927612305, 110.89788055419922, 67.23230743408203, 22.812562942504883, 128.382080078125, 37.76652526855469, -9.109601020812988, 31.58353042602539, -1.9761806726455688, -6.3738694190979, 131.6676025390625, 86.91326904296875, 16.727710723876953, 40.504146575927734, -102.33470153808594, 114.48326110839844, 11.475150108337402, 12.036431312561035, 132.4588623046875, -36.932151794433594, 53.79745101928711, 106.95105743408203, 116.4717788696289, 77.00502014160156, 92.47466278076172, 12.562920570373535, 52.252628326416016, 26.991220474243164, -44.835445404052734, 68.5119400024414, 142.8266143798828, 8.46749496459961, 111.27972412109375, 8.897184371948242], \"z\": [90.61294555664062, 4.868838787078857, 27.29195213317871, 109.72713470458984, 15.126086235046387, -81.10015869140625, 2.660979986190796, 22.585954666137695, 13.869577407836914, 32.3929443359375, 13.19347095489502, 95.07373809814453, 60.462528228759766, 74.48421478271484, -37.5413818359375, -12.732965469360352, 3.9749629497528076, -25.06421661376953, -56.93801498413086, 43.280845642089844, 27.218143463134766, 67.06629180908203, -57.035240173339844, 12.336790084838867, 66.07727813720703, -8.939634323120117, 54.093544006347656, -12.9917573928833, 40.13658142089844, 37.16970443725586, 13.77675724029541, 38.58759689331055, 35.286685943603516, 52.49654769897461, 50.013999938964844, 156.83963012695312, -26.992494583129883, 15.486350059509277, -25.21648406982422]}, {\"hoverlabel\": {\"namelength\": 0}, \"hovertemplate\": \"label=Revere<br>x=%{x}<br>y=%{y}<br>z=%{z}\", \"legendgroup\": \"label=Revere\", \"marker\": {\"color\": \"#B6E880\", \"symbol\": \"circle\"}, \"mode\": \"markers\", \"name\": \"label=Revere\", \"scene\": \"scene\", \"showlegend\": true, \"type\": \"scatter3d\", \"x\": [58.80207824707031, 14.369685173034668, 121.27290344238281, 1.230552315711975, 30.21698760986328, -16.379369735717773, -18.82588768005371, 12.980279922485352, -55.20724105834961, 140.78538513183594, 3.7807862758636475, 10.94849967956543, 39.918479919433594, -32.706363677978516, -5.963983058929443, 58.26483917236328, 101.94076538085938, 30.486364364624023, 48.725624084472656, 45.47319793701172, 11.674422264099121, -12.02656078338623, 29.648202896118164, 18.894725799560547, 2.5424482822418213, -12.266471862792969, -2.701303243637085, 28.97657012939453, 18.5057373046875, 44.66947555541992, 0.19767314195632935], \"y\": [-44.57949447631836, -65.29588317871094, -87.71035766601562, -93.13372802734375, -69.87816619873047, -72.03101348876953, -108.50967407226562, -117.02783203125, -4.686351299285889, -56.12783432006836, -131.69766235351562, -110.28960418701172, -120.12186431884766, -94.25885009765625, -107.0560302734375, -97.33655548095703, -90.82487487792969, -77.16071319580078, -70.1463394165039, -93.37294006347656, -128.05599975585938, -132.92640686035156, -92.16626739501953, -104.60224914550781, -97.05841064453125, -108.92827606201172, -76.48078918457031, -139.3721160888672, -98.32905578613281, -113.33988952636719, -80.10636901855469], \"z\": [109.30719757080078, -44.05996322631836, 27.21818733215332, -46.23029327392578, -69.29470825195312, -41.53553009033203, -32.5629768371582, -47.69693374633789, -116.74249267578125, 20.997112274169922, -22.137346267700195, 70.10690307617188, -63.75984191894531, -55.55552673339844, -6.137485027313232, -52.78483581542969, -19.358306884765625, -20.48535919189453, -43.14226150512695, -81.47859954833984, -75.74113464355469, -50.46553039550781, -46.35408020019531, -21.434728622436523, -94.27960205078125, -69.5443344116211, -70.34937286376953, -40.392669677734375, -70.81786346435547, -31.39881706237793, -18.933765411376953]}, {\"hoverlabel\": {\"namelength\": 0}, \"hovertemplate\": \"label=USS<br>x=%{x}<br>y=%{y}<br>z=%{z}\", \"legendgroup\": \"label=USS\", \"marker\": {\"color\": \"#FF97FF\", \"symbol\": \"circle\"}, \"mode\": \"markers\", \"name\": \"label=USS\", \"scene\": \"scene\", \"showlegend\": true, \"type\": \"scatter3d\", \"x\": [37.04059982299805, 78.16801452636719, 37.106300354003906, -33.41724395751953, 63.55678939819336, 58.91767883300781, 52.96809768676758, 64.17516326904297, -13.755215644836426, 121.84127044677734, 32.57057571411133, 126.75978088378906, 53.64442825317383, -14.553492546081543, 59.27880096435547, 50.97229766845703, 81.76239776611328, 83.01657104492188, 57.26129913330078, -4.897345066070557, 69.84717559814453, -19.9227237701416, 25.164854049682617, 13.532151222229004, 18.826763153076172, 73.37681579589844], \"y\": [-123.88742065429688, -98.24118041992188, -120.98751831054688, -64.2195816040039, -5.834144115447998, -110.92676544189453, -95.01702117919922, -121.31340026855469, -60.744789123535156, -53.72074890136719, -98.9307632446289, -24.562360763549805, 87.52351379394531, -45.852294921875, -135.96856689453125, -94.07625579833984, -97.11965942382812, -126.28983306884766, -144.5006103515625, -69.71292877197266, -31.988880157470703, -85.5882568359375, 83.75508117675781, 112.51183319091797, -68.9023666381836, -114.66524505615234], \"z\": [15.611579895019531, 5.206049919128418, 46.03750228881836, 66.16156768798828, -70.883544921875, 28.622159957885742, 50.48142623901367, 2.9171674251556396, 46.112815856933594, -22.97575569152832, 29.057104110717773, -48.1392936706543, -107.26898956298828, 69.38710021972656, 41.193702697753906, 8.97978401184082, 32.67681884765625, 25.96169662475586, 15.532671928405762, 71.18619537353516, -79.02063751220703, 59.10386276245117, -123.30670928955078, -89.64859008789062, 75.73347473144531, 54.52988815307617]}, {\"hoverlabel\": {\"namelength\": 0}, \"hovertemplate\": \"label=Xia<br>x=%{x}<br>y=%{y}<br>z=%{z}\", \"legendgroup\": \"label=Xia\", \"marker\": {\"color\": \"#FECB52\", \"symbol\": \"circle\"}, \"mode\": \"markers\", \"name\": \"label=Xia\", \"scene\": \"scene\", \"showlegend\": true, \"type\": \"scatter3d\", \"x\": [-106.5313949584961, -86.68817901611328, 10.930667877197266, -52.29078674316406, -66.4999008178711, -30.746755599975586, -11.861388206481934, 43.68891143798828, -75.22093963623047, -67.46086120605469, 8.296609878540039, -13.015828132629395, -0.2862231433391571, 32.66546630859375, 14.28640365600586, -55.95930480957031, 23.273683547973633, 1.5823886394500732, -2.2866508960723877, -5.243834018707275, 69.54978942871094, 33.66716384887695, 9.045984268188477, 49.576271057128906, 67.44984436035156, 44.519630432128906, -86.91304016113281, -63.03495407104492, 12.9495849609375, 59.42131423950195, 50.82036209106445, -34.34017562866211, -107.51249694824219, 47.19149398803711, -20.302778244018555, -14.62104606628418, 13.713225364685059, 17.17005729675293], \"y\": [-58.48866653442383, -55.903167724609375, 37.24151611328125, 98.48314666748047, 95.6797103881836, -32.255191802978516, 60.73978042602539, 55.96685028076172, 98.38807678222656, 74.8665542602539, 43.885494232177734, 27.413278579711914, 20.568893432617188, 6.110172271728516, -25.9146728515625, -6.721812725067139, 18.402748107910156, 12.260482788085938, -6.1609954833984375, -27.139934539794922, 25.572673797607422, -61.387271881103516, 20.4113826751709, 30.148597717285156, 48.322418212890625, -29.906999588012695, -76.93218231201172, 53.87324523925781, -21.26519775390625, 49.608123779296875, 30.77430534362793, -49.484657287597656, 57.580589294433594, 7.499528408050537, 125.8405532836914, 40.91205978393555, 12.259081840515137, -3.5730695724487305], \"z\": [63.280582427978516, 43.769649505615234, 86.65386962890625, -47.72858428955078, -65.92666625976562, 43.46902084350586, -104.19400024414062, 71.79891967773438, -43.82011032104492, -50.78972625732422, -97.30519104003906, -108.99939727783203, -51.018978118896484, 85.47207641601562, 27.28872299194336, -73.38422393798828, -135.7022247314453, -135.7584228515625, 36.50834274291992, 17.821701049804688, 87.49270629882812, 36.39339065551758, -75.08489990234375, 70.86674499511719, 96.65008544921875, -34.35161209106445, 67.7833480834961, -30.626039505004883, 6.564773082733154, 58.682559967041016, 98.22530364990234, -61.15277099609375, 4.12070894241333, 6.242815971374512, 50.63385772705078, -135.63499450683594, -116.96987915039062, 51.81248474121094]}],\n",
              "                        {\"legend\": {\"tracegroupgap\": 0}, \"margin\": {\"t\": 60}, \"scene\": {\"domain\": {\"x\": [0.0, 1.0], \"y\": [0.0, 1.0]}, \"xaxis\": {\"title\": {\"text\": \"x\"}}, \"yaxis\": {\"title\": {\"text\": \"y\"}}, \"zaxis\": {\"title\": {\"text\": \"z\"}}}, \"template\": {\"data\": {\"bar\": [{\"error_x\": {\"color\": \"#2a3f5f\"}, \"error_y\": {\"color\": \"#2a3f5f\"}, \"marker\": {\"line\": {\"color\": \"#E5ECF6\", \"width\": 0.5}}, \"type\": \"bar\"}], \"barpolar\": [{\"marker\": {\"line\": {\"color\": \"#E5ECF6\", \"width\": 0.5}}, \"type\": \"barpolar\"}], \"carpet\": [{\"aaxis\": {\"endlinecolor\": \"#2a3f5f\", \"gridcolor\": \"white\", \"linecolor\": \"white\", \"minorgridcolor\": \"white\", \"startlinecolor\": \"#2a3f5f\"}, \"baxis\": {\"endlinecolor\": \"#2a3f5f\", \"gridcolor\": \"white\", \"linecolor\": \"white\", \"minorgridcolor\": \"white\", \"startlinecolor\": \"#2a3f5f\"}, \"type\": \"carpet\"}], \"choropleth\": [{\"colorbar\": {\"outlinewidth\": 0, \"ticks\": \"\"}, \"type\": \"choropleth\"}], \"contour\": [{\"colorbar\": {\"outlinewidth\": 0, \"ticks\": \"\"}, \"colorscale\": [[0.0, \"#0d0887\"], [0.1111111111111111, \"#46039f\"], [0.2222222222222222, \"#7201a8\"], [0.3333333333333333, \"#9c179e\"], [0.4444444444444444, \"#bd3786\"], [0.5555555555555556, \"#d8576b\"], [0.6666666666666666, \"#ed7953\"], [0.7777777777777778, \"#fb9f3a\"], [0.8888888888888888, \"#fdca26\"], [1.0, \"#f0f921\"]], \"type\": \"contour\"}], \"contourcarpet\": [{\"colorbar\": {\"outlinewidth\": 0, \"ticks\": \"\"}, \"type\": \"contourcarpet\"}], \"heatmap\": [{\"colorbar\": {\"outlinewidth\": 0, \"ticks\": \"\"}, \"colorscale\": [[0.0, \"#0d0887\"], [0.1111111111111111, \"#46039f\"], [0.2222222222222222, \"#7201a8\"], [0.3333333333333333, \"#9c179e\"], [0.4444444444444444, \"#bd3786\"], [0.5555555555555556, \"#d8576b\"], [0.6666666666666666, \"#ed7953\"], [0.7777777777777778, \"#fb9f3a\"], [0.8888888888888888, \"#fdca26\"], [1.0, \"#f0f921\"]], \"type\": \"heatmap\"}], \"heatmapgl\": [{\"colorbar\": {\"outlinewidth\": 0, \"ticks\": \"\"}, \"colorscale\": [[0.0, \"#0d0887\"], [0.1111111111111111, \"#46039f\"], [0.2222222222222222, \"#7201a8\"], [0.3333333333333333, \"#9c179e\"], [0.4444444444444444, \"#bd3786\"], [0.5555555555555556, \"#d8576b\"], [0.6666666666666666, \"#ed7953\"], [0.7777777777777778, \"#fb9f3a\"], [0.8888888888888888, \"#fdca26\"], [1.0, \"#f0f921\"]], \"type\": \"heatmapgl\"}], \"histogram\": [{\"marker\": {\"colorbar\": {\"outlinewidth\": 0, \"ticks\": \"\"}}, \"type\": \"histogram\"}], \"histogram2d\": [{\"colorbar\": {\"outlinewidth\": 0, \"ticks\": \"\"}, \"colorscale\": [[0.0, \"#0d0887\"], [0.1111111111111111, \"#46039f\"], [0.2222222222222222, \"#7201a8\"], [0.3333333333333333, \"#9c179e\"], [0.4444444444444444, \"#bd3786\"], [0.5555555555555556, \"#d8576b\"], [0.6666666666666666, \"#ed7953\"], [0.7777777777777778, \"#fb9f3a\"], [0.8888888888888888, \"#fdca26\"], [1.0, \"#f0f921\"]], \"type\": \"histogram2d\"}], \"histogram2dcontour\": [{\"colorbar\": {\"outlinewidth\": 0, \"ticks\": \"\"}, \"colorscale\": [[0.0, \"#0d0887\"], [0.1111111111111111, \"#46039f\"], [0.2222222222222222, \"#7201a8\"], [0.3333333333333333, \"#9c179e\"], [0.4444444444444444, \"#bd3786\"], [0.5555555555555556, \"#d8576b\"], [0.6666666666666666, \"#ed7953\"], [0.7777777777777778, \"#fb9f3a\"], [0.8888888888888888, \"#fdca26\"], [1.0, \"#f0f921\"]], \"type\": \"histogram2dcontour\"}], \"mesh3d\": [{\"colorbar\": {\"outlinewidth\": 0, \"ticks\": \"\"}, \"type\": \"mesh3d\"}], \"parcoords\": [{\"line\": {\"colorbar\": {\"outlinewidth\": 0, \"ticks\": \"\"}}, \"type\": \"parcoords\"}], \"pie\": [{\"automargin\": true, \"type\": \"pie\"}], \"scatter\": [{\"marker\": {\"colorbar\": {\"outlinewidth\": 0, \"ticks\": \"\"}}, \"type\": \"scatter\"}], \"scatter3d\": [{\"line\": {\"colorbar\": {\"outlinewidth\": 0, \"ticks\": \"\"}}, \"marker\": {\"colorbar\": {\"outlinewidth\": 0, \"ticks\": \"\"}}, \"type\": \"scatter3d\"}], \"scattercarpet\": [{\"marker\": {\"colorbar\": {\"outlinewidth\": 0, \"ticks\": \"\"}}, \"type\": \"scattercarpet\"}], \"scattergeo\": [{\"marker\": {\"colorbar\": {\"outlinewidth\": 0, \"ticks\": \"\"}}, \"type\": \"scattergeo\"}], \"scattergl\": [{\"marker\": {\"colorbar\": {\"outlinewidth\": 0, \"ticks\": \"\"}}, \"type\": \"scattergl\"}], \"scattermapbox\": [{\"marker\": {\"colorbar\": {\"outlinewidth\": 0, \"ticks\": \"\"}}, \"type\": \"scattermapbox\"}], \"scatterpolar\": [{\"marker\": {\"colorbar\": {\"outlinewidth\": 0, \"ticks\": \"\"}}, \"type\": \"scatterpolar\"}], \"scatterpolargl\": [{\"marker\": {\"colorbar\": {\"outlinewidth\": 0, \"ticks\": \"\"}}, \"type\": \"scatterpolargl\"}], \"scatterternary\": [{\"marker\": {\"colorbar\": {\"outlinewidth\": 0, \"ticks\": \"\"}}, \"type\": \"scatterternary\"}], \"surface\": [{\"colorbar\": {\"outlinewidth\": 0, \"ticks\": \"\"}, \"colorscale\": [[0.0, \"#0d0887\"], [0.1111111111111111, \"#46039f\"], [0.2222222222222222, \"#7201a8\"], [0.3333333333333333, \"#9c179e\"], [0.4444444444444444, \"#bd3786\"], [0.5555555555555556, \"#d8576b\"], [0.6666666666666666, \"#ed7953\"], [0.7777777777777778, \"#fb9f3a\"], [0.8888888888888888, \"#fdca26\"], [1.0, \"#f0f921\"]], \"type\": \"surface\"}], \"table\": [{\"cells\": {\"fill\": {\"color\": \"#EBF0F8\"}, \"line\": {\"color\": \"white\"}}, \"header\": {\"fill\": {\"color\": \"#C8D4E3\"}, \"line\": {\"color\": \"white\"}}, \"type\": \"table\"}]}, \"layout\": {\"annotationdefaults\": {\"arrowcolor\": \"#2a3f5f\", \"arrowhead\": 0, \"arrowwidth\": 1}, \"coloraxis\": {\"colorbar\": {\"outlinewidth\": 0, \"ticks\": \"\"}}, \"colorscale\": {\"diverging\": [[0, \"#8e0152\"], [0.1, \"#c51b7d\"], [0.2, \"#de77ae\"], [0.3, \"#f1b6da\"], [0.4, \"#fde0ef\"], [0.5, \"#f7f7f7\"], [0.6, \"#e6f5d0\"], [0.7, \"#b8e186\"], [0.8, \"#7fbc41\"], [0.9, \"#4d9221\"], [1, \"#276419\"]], \"sequential\": [[0.0, \"#0d0887\"], [0.1111111111111111, \"#46039f\"], [0.2222222222222222, \"#7201a8\"], [0.3333333333333333, \"#9c179e\"], [0.4444444444444444, \"#bd3786\"], [0.5555555555555556, \"#d8576b\"], [0.6666666666666666, \"#ed7953\"], [0.7777777777777778, \"#fb9f3a\"], [0.8888888888888888, \"#fdca26\"], [1.0, \"#f0f921\"]], \"sequentialminus\": [[0.0, \"#0d0887\"], [0.1111111111111111, \"#46039f\"], [0.2222222222222222, \"#7201a8\"], [0.3333333333333333, \"#9c179e\"], [0.4444444444444444, \"#bd3786\"], [0.5555555555555556, \"#d8576b\"], [0.6666666666666666, \"#ed7953\"], [0.7777777777777778, \"#fb9f3a\"], [0.8888888888888888, \"#fdca26\"], [1.0, \"#f0f921\"]]}, \"colorway\": [\"#636efa\", \"#EF553B\", \"#00cc96\", \"#ab63fa\", \"#FFA15A\", \"#19d3f3\", \"#FF6692\", \"#B6E880\", \"#FF97FF\", \"#FECB52\"], \"font\": {\"color\": \"#2a3f5f\"}, \"geo\": {\"bgcolor\": \"white\", \"lakecolor\": \"white\", \"landcolor\": \"#E5ECF6\", \"showlakes\": true, \"showland\": true, \"subunitcolor\": \"white\"}, \"hoverlabel\": {\"align\": \"left\"}, \"hovermode\": \"closest\", \"mapbox\": {\"style\": \"light\"}, \"paper_bgcolor\": \"white\", \"plot_bgcolor\": \"#E5ECF6\", \"polar\": {\"angularaxis\": {\"gridcolor\": \"white\", \"linecolor\": \"white\", \"ticks\": \"\"}, \"bgcolor\": \"#E5ECF6\", \"radialaxis\": {\"gridcolor\": \"white\", \"linecolor\": \"white\", \"ticks\": \"\"}}, \"scene\": {\"xaxis\": {\"backgroundcolor\": \"#E5ECF6\", \"gridcolor\": \"white\", \"gridwidth\": 2, \"linecolor\": \"white\", \"showbackground\": true, \"ticks\": \"\", \"zerolinecolor\": \"white\"}, \"yaxis\": {\"backgroundcolor\": \"#E5ECF6\", \"gridcolor\": \"white\", \"gridwidth\": 2, \"linecolor\": \"white\", \"showbackground\": true, \"ticks\": \"\", \"zerolinecolor\": \"white\"}, \"zaxis\": {\"backgroundcolor\": \"#E5ECF6\", \"gridcolor\": \"white\", \"gridwidth\": 2, \"linecolor\": \"white\", \"showbackground\": true, \"ticks\": \"\", \"zerolinecolor\": \"white\"}}, \"shapedefaults\": {\"line\": {\"color\": \"#2a3f5f\"}}, \"ternary\": {\"aaxis\": {\"gridcolor\": \"white\", \"linecolor\": \"white\", \"ticks\": \"\"}, \"baxis\": {\"gridcolor\": \"white\", \"linecolor\": \"white\", \"ticks\": \"\"}, \"bgcolor\": \"#E5ECF6\", \"caxis\": {\"gridcolor\": \"white\", \"linecolor\": \"white\", \"ticks\": \"\"}}, \"title\": {\"x\": 0.05}, \"xaxis\": {\"automargin\": true, \"gridcolor\": \"white\", \"linecolor\": \"white\", \"ticks\": \"\", \"title\": {\"standoff\": 15}, \"zerolinecolor\": \"white\", \"zerolinewidth\": 2}, \"yaxis\": {\"automargin\": true, \"gridcolor\": \"white\", \"linecolor\": \"white\", \"ticks\": \"\", \"title\": {\"standoff\": 15}, \"zerolinecolor\": \"white\", \"zerolinewidth\": 2}}}},\n",
              "                        {\"responsive\": true}\n",
              "                    ).then(function(){\n",
              "                            \n",
              "var gd = document.getElementById('e4744fe9-f3c2-44ad-8567-0f09f00d6637');\n",
              "var x = new MutationObserver(function (mutations, observer) {{\n",
              "        var display = window.getComputedStyle(gd).display;\n",
              "        if (!display || display === 'none') {{\n",
              "            console.log([gd, 'removed!']);\n",
              "            Plotly.purge(gd);\n",
              "            observer.disconnect();\n",
              "        }}\n",
              "}});\n",
              "\n",
              "// Listen for the removal of the full notebook cells\n",
              "var notebookContainer = gd.closest('#notebook-container');\n",
              "if (notebookContainer) {{\n",
              "    x.observe(notebookContainer, {childList: true});\n",
              "}}\n",
              "\n",
              "// Listen for the clearing of the current output cell\n",
              "var outputEl = gd.closest('.output');\n",
              "if (outputEl) {{\n",
              "    x.observe(outputEl, {childList: true});\n",
              "}}\n",
              "\n",
              "                        })\n",
              "                };\n",
              "                \n",
              "            </script>\n",
              "        </div>\n",
              "</body>\n",
              "</html>"
            ]
          },
          "metadata": {
            "tags": []
          }
        }
      ]
    },
    {
      "cell_type": "code",
      "metadata": {
        "id": "40Fn_EqxEnk-"
      },
      "source": [
        ""
      ],
      "execution_count": 18,
      "outputs": []
    }
  ]
}